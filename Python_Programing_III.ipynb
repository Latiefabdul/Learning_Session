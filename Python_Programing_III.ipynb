{
  "nbformat": 4,
  "nbformat_minor": 0,
  "metadata": {
    "colab": {
      "provenance": [],
      "toc_visible": true,
      "include_colab_link": true
    },
    "kernelspec": {
      "name": "python3",
      "display_name": "Python 3"
    },
    "language_info": {
      "name": "python"
    }
  },
  "cells": [
    {
      "cell_type": "markdown",
      "metadata": {
        "id": "view-in-github",
        "colab_type": "text"
      },
      "source": [
        "<a href=\"https://colab.research.google.com/github/Latiefabdul/Learning_Session/blob/main/Python_Programing_III.ipynb\" target=\"_parent\"><img src=\"https://colab.research.google.com/assets/colab-badge.svg\" alt=\"Open In Colab\"/></a>"
      ]
    },
    {
      "cell_type": "markdown",
      "source": [
        "##Function Python"
      ],
      "metadata": {
        "id": "zTX79qQMBQjI"
      }
    },
    {
      "cell_type": "code",
      "execution_count": null,
      "metadata": {
        "id": "jD3ABz4rA1ow",
        "colab": {
          "base_uri": "https://localhost:8080/"
        },
        "outputId": "c638e70e-bb7f-4637-b075-a57c1c8ad839"
      },
      "outputs": [
        {
          "output_type": "stream",
          "name": "stdout",
          "text": [
            "Hellow All!!\n"
          ]
        }
      ],
      "source": [
        "def func1():\n",
        "  print(\"Hellow All!!\") #Kode dalam function\n",
        "\n",
        "func1() #Memanggil Function"
      ]
    },
    {
      "cell_type": "code",
      "source": [
        "def _fungsiSaya():\n",
        "  print(\"Saya berguna untuk demonstrasi fungsi\")\n",
        "  print(1452567)\n",
        "  print(\"\\n\") #Enter atau newline\n",
        "  print(3.5655)\n",
        "  print(\"Hahaha itu saldo ATM apa GPA :v\")\n",
        "\n",
        "_fungsiSaya() #Memanggil Function"
      ],
      "metadata": {
        "colab": {
          "base_uri": "https://localhost:8080/"
        },
        "id": "jdPfQ7W5ZefO",
        "outputId": "6171f6e7-a56a-4686-9695-a3d073be4bf0"
      },
      "execution_count": null,
      "outputs": [
        {
          "output_type": "stream",
          "name": "stdout",
          "text": [
            "Saya berguna untuk demonstrasi fungsi\n",
            "1452567\n",
            "\n",
            "\n",
            "3.5655\n",
            "Hahaha itu saldo ATM apa GPA :v\n"
          ]
        }
      ]
    },
    {
      "cell_type": "code",
      "source": [
        "#Function Mengembalikan Nilai\n",
        "def func_return_nilai():\n",
        "  a = 5\n",
        "  b = 6\n",
        "  return(a+b)\n",
        "\n",
        "func_return_nilai()"
      ],
      "metadata": {
        "colab": {
          "base_uri": "https://localhost:8080/"
        },
        "id": "4PSzhVmhbLkf",
        "outputId": "36dd389a-db96-47ea-8b77-f9047ca5799b"
      },
      "execution_count": null,
      "outputs": [
        {
          "output_type": "execute_result",
          "data": {
            "text/plain": [
              "11"
            ]
          },
          "metadata": {},
          "execution_count": 5
        }
      ]
    },
    {
      "cell_type": "markdown",
      "source": [
        "##Scope"
      ],
      "metadata": {
        "id": "tH3DoPZQHN6m"
      }
    },
    {
      "cell_type": "markdown",
      "source": [
        "**Local Scope**"
      ],
      "metadata": {
        "id": "qsz8dmqfHQ-i"
      }
    },
    {
      "cell_type": "code",
      "source": [
        "def localScp():\n",
        "  var1 = 10 #Local Scope = Didalam function\n",
        "  # return var1\n",
        "  print(var1)\n",
        "\n",
        "localScp()"
      ],
      "metadata": {
        "id": "yCT-Wg3DHTDE",
        "colab": {
          "base_uri": "https://localhost:8080/"
        },
        "outputId": "ea0cbf42-1b9d-46de-8caf-6f161f899a69"
      },
      "execution_count": null,
      "outputs": [
        {
          "output_type": "stream",
          "name": "stdout",
          "text": [
            "10\n"
          ]
        }
      ]
    },
    {
      "cell_type": "markdown",
      "source": [
        "**Global Scope**"
      ],
      "metadata": {
        "id": "52bng-3-HjJ6"
      }
    },
    {
      "cell_type": "code",
      "source": [
        "var1=10\n",
        "\n",
        "def GlobalScp():\n",
        "  var2 = 20\n",
        "  c = var1 + var2\n",
        "  return c\n",
        "\n",
        "def test():\n",
        "  b = GlobalScp()\n",
        "  a = b ** 2\n",
        "  return a\n",
        "\n",
        "test()"
      ],
      "metadata": {
        "id": "sWtkuxhGHlEC",
        "colab": {
          "base_uri": "https://localhost:8080/"
        },
        "outputId": "ec51bf84-2eaf-41c2-bec4-2483107b87f8"
      },
      "execution_count": null,
      "outputs": [
        {
          "output_type": "execute_result",
          "data": {
            "text/plain": [
              "900"
            ]
          },
          "metadata": {},
          "execution_count": 7
        }
      ]
    },
    {
      "cell_type": "markdown",
      "source": [
        "**Global Keyword**"
      ],
      "metadata": {
        "id": "7zEIxdgPIokx"
      }
    },
    {
      "cell_type": "code",
      "source": [
        "def GlobalKey():\n",
        "  global var1 # Deklarasi global\n",
        "  var1=10 # Assign nilai\n",
        "  print(\"ini didalam function:\" ,var1)\n",
        "\n",
        "def func2():\n",
        "  c = var1 + 10\n",
        "  return c\n",
        "\n",
        "GlobalKey()\n",
        "print(\"ini diluar function:\" ,var1)\n",
        "func2()"
      ],
      "metadata": {
        "id": "JSISPadKIq-g",
        "colab": {
          "base_uri": "https://localhost:8080/"
        },
        "outputId": "902941eb-d79b-418e-cf99-aa351cd3447b"
      },
      "execution_count": null,
      "outputs": [
        {
          "output_type": "stream",
          "name": "stdout",
          "text": [
            "ini didalam function: 10\n",
            "ini diluar function: 10\n"
          ]
        },
        {
          "output_type": "execute_result",
          "data": {
            "text/plain": [
              "20"
            ]
          },
          "metadata": {},
          "execution_count": 8
        }
      ]
    },
    {
      "cell_type": "markdown",
      "source": [
        "##Arguments"
      ],
      "metadata": {
        "id": "VTbZGBaZI2U8"
      }
    },
    {
      "cell_type": "code",
      "source": [
        "def daftar_nama(fname): #Parameter\n",
        "  print(fname, \"Fischer\")\n",
        "\n",
        "daftar_nama(\"Taylor\") #Argument\n",
        "daftar_nama(\"Farah\")"
      ],
      "metadata": {
        "id": "9txkXeISI9Iz",
        "colab": {
          "base_uri": "https://localhost:8080/"
        },
        "outputId": "7582e12e-41bc-4527-c211-b5c4d4b20094"
      },
      "execution_count": null,
      "outputs": [
        {
          "output_type": "stream",
          "name": "stdout",
          "text": [
            "Taylor Fischer\n",
            "Farah Fischer\n"
          ]
        }
      ]
    },
    {
      "cell_type": "code",
      "source": [
        "def daftar_nama(fname,lname): #Parameter = Variabel, didalam tanda kurungnya function\n",
        "  print(fname, lname)\n",
        "\n",
        "daftar_nama(\"Taylor\",\"Fischer\") #Arguments = Nilai, didalam tanda kurung saat menanggil function\n",
        "daftar_nama(\"Farah\",\"Yulianti\")\n",
        "daftar_nama(\"Adithya\",\"Muzalian\")"
      ],
      "metadata": {
        "id": "ITw5rwwHJURF",
        "colab": {
          "base_uri": "https://localhost:8080/"
        },
        "outputId": "599eb1e1-52aa-418c-c188-28873f2979e6"
      },
      "execution_count": null,
      "outputs": [
        {
          "output_type": "stream",
          "name": "stdout",
          "text": [
            "Taylor Fischer\n",
            "Farah Yulianti\n",
            "Adithya Muzalian\n"
          ]
        }
      ]
    },
    {
      "cell_type": "code",
      "source": [
        "def tambah(operand1,operand2):\n",
        "  hasil = operand1 + operand2\n",
        "  return hasil\n",
        "\n",
        "def kurang(operand1,operand2):\n",
        "  hasil = operand1 - operand2\n",
        "  return hasil\n",
        "\n",
        "tambah(20,2)"
      ],
      "metadata": {
        "id": "LWSvLEcZhb5P",
        "colab": {
          "base_uri": "https://localhost:8080/"
        },
        "outputId": "20301620-a291-4517-94ab-c4c66bda7d32"
      },
      "execution_count": null,
      "outputs": [
        {
          "output_type": "execute_result",
          "data": {
            "text/plain": [
              "22"
            ]
          },
          "metadata": {},
          "execution_count": 11
        }
      ]
    },
    {
      "cell_type": "code",
      "source": [
        "kurang(20,2)"
      ],
      "metadata": {
        "colab": {
          "base_uri": "https://localhost:8080/"
        },
        "id": "xjOGJlxyi3vd",
        "outputId": "2762a889-066e-4251-e0dd-043b1ed2c326"
      },
      "execution_count": null,
      "outputs": [
        {
          "output_type": "execute_result",
          "data": {
            "text/plain": [
              "18"
            ]
          },
          "metadata": {},
          "execution_count": 12
        }
      ]
    },
    {
      "cell_type": "markdown",
      "source": [
        "##Arbitary Arguments (Args)"
      ],
      "metadata": {
        "id": "Vb311hBxJob6"
      }
    },
    {
      "cell_type": "code",
      "source": [
        "def dftr_pst(*nama):\n",
        "  print(\"Peserta Kedua:\" ,nama[1])\n",
        "  print(\"Peserta Ketiga:\" ,nama[2])\n",
        "  print(\"Peserta Keempat:\" ,nama[3])\n",
        "\n",
        "dftr_pst(\"Julian\", \"Hendri\", \"Farah\",\"Devina\",\"Lily\")"
      ],
      "metadata": {
        "id": "cb36nyVeJrzC",
        "colab": {
          "base_uri": "https://localhost:8080/"
        },
        "outputId": "3abbbb6d-b2b6-4ffd-bb43-a5ffc95278bd"
      },
      "execution_count": null,
      "outputs": [
        {
          "output_type": "stream",
          "name": "stdout",
          "text": [
            "Peserta Kedua: Hendri\n",
            "Peserta Ketiga: Farah\n",
            "Peserta Keempat: Devina\n"
          ]
        }
      ]
    },
    {
      "cell_type": "code",
      "source": [
        "def dftr_pst(*nama):\n",
        "  for j,i in enumerate(nama): #Enumerate = Menyimpan indeks dari list\n",
        "    print(\"Peserta ke-\", j, \":\" ,i)\n",
        "\n",
        "dftr_pst(\"Julian\", \"Hendri\", \"Farah\",\"Devina\",\"Lily\")"
      ],
      "metadata": {
        "id": "OgMMqqOfKiVx",
        "colab": {
          "base_uri": "https://localhost:8080/"
        },
        "outputId": "3d315426-a2ec-424f-d884-66e6e16029aa"
      },
      "execution_count": null,
      "outputs": [
        {
          "output_type": "stream",
          "name": "stdout",
          "text": [
            "Peserta ke- 0 : Julian\n",
            "Peserta ke- 1 : Hendri\n",
            "Peserta ke- 2 : Farah\n",
            "Peserta ke- 3 : Devina\n",
            "Peserta ke- 4 : Lily\n"
          ]
        }
      ]
    },
    {
      "cell_type": "markdown",
      "source": [
        "##Keyword Arguments"
      ],
      "metadata": {
        "id": "8JkkhTMwKuGc"
      }
    },
    {
      "cell_type": "code",
      "source": [
        "def dftr_pst(nama,alamat,kelas):\n",
        "  print(\"Nama Peserta:\", nama)\n",
        "  print(\"Alamat Peserta:\", alamat)\n",
        "  print(\"Kelas Peserta:\", kelas)\n",
        "\n",
        "dftr_pst(nama= \"Lily\", kelas=\"English\", alamat=\"Jakarta\")"
      ],
      "metadata": {
        "id": "OPck28OUKwBa",
        "colab": {
          "base_uri": "https://localhost:8080/"
        },
        "outputId": "1c3b4896-b864-4719-d1dc-6efb80cf58a0"
      },
      "execution_count": null,
      "outputs": [
        {
          "output_type": "stream",
          "name": "stdout",
          "text": [
            "Nama Peserta: Lily\n",
            "Alamat Peserta: Jakarta\n",
            "Kelas Peserta: English\n"
          ]
        }
      ]
    },
    {
      "cell_type": "markdown",
      "source": [
        "##Arbitary Keyword Arguments (Kwargs)"
      ],
      "metadata": {
        "id": "zXd4TzxoLNRD"
      }
    },
    {
      "cell_type": "code",
      "source": [
        "def dftr_pst(**data):\n",
        "  print(\"Nama Peserta:\", data[\"nama\"])\n",
        "  print(\"Alamat Peserta:\", data[\"alamat\"])\n",
        "  print(\"Kelas Peserta:\", data[\"kelas\"])\n",
        "  print(\"Kecamatan Peserta:\", data[\"kecamatan\"])\n",
        "  print(\"Penghasilan Peserta:\", data[\"penghasilan\"])\n",
        "\n",
        "dftr_pst(nama= \"Lily\", kelas=\"English\", alamat=\"Jakarta\", kecamatan=\"Lebak Bulus\", penghasilan=\"100000\")"
      ],
      "metadata": {
        "id": "zDv8-qMsLTD_",
        "colab": {
          "base_uri": "https://localhost:8080/"
        },
        "outputId": "165a9c22-1e9b-4167-c193-633bbab0fac0"
      },
      "execution_count": null,
      "outputs": [
        {
          "output_type": "stream",
          "name": "stdout",
          "text": [
            "Nama Peserta: Lily\n",
            "Alamat Peserta: Jakarta\n",
            "Kelas Peserta: English\n",
            "Kecamatan Peserta: Lebak Bulus\n",
            "Penghasilan Peserta: 100000\n"
          ]
        }
      ]
    },
    {
      "cell_type": "markdown",
      "source": [
        "##Default Parameter Value"
      ],
      "metadata": {
        "id": "VMCLZhqVLf4u"
      }
    },
    {
      "cell_type": "code",
      "source": [
        "def data_pst(nama=\"Lily\"):\n",
        "  print(\"Nama Peserta:\", nama)\n",
        "\n",
        "data_pst()\n",
        "data_pst(\"Unggah\")"
      ],
      "metadata": {
        "id": "OrgD9EagLhfu",
        "colab": {
          "base_uri": "https://localhost:8080/"
        },
        "outputId": "f16280a9-b783-4ca9-af80-dc656082ef54"
      },
      "execution_count": null,
      "outputs": [
        {
          "output_type": "stream",
          "name": "stdout",
          "text": [
            "Nama Peserta: Lily\n",
            "Nama Peserta: Unggah\n"
          ]
        }
      ]
    },
    {
      "cell_type": "code",
      "source": [
        "def dftr_pst(nama=\"Chandra\",alamat=\"Denpasar\",kelas=\"Programming\"):\n",
        "  print(\"Nama Peserta:\", nama)\n",
        "  print(\"Alamat Peserta:\", alamat)\n",
        "  print(\"Kelas Peserta:\", kelas, \"\\n\")\n",
        "\n",
        "dftr_pst()\n",
        "dftr_pst(\"Farah\",\"Bekasi\")\n",
        "dftr_pst(\"Rahmat\",\"Bandung\",\"Tutor\")"
      ],
      "metadata": {
        "id": "adpEeBF3LuXE"
      },
      "execution_count": null,
      "outputs": []
    },
    {
      "cell_type": "markdown",
      "source": [
        "##List sebagai argumen"
      ],
      "metadata": {
        "id": "aTrfNu6iMTBJ"
      }
    },
    {
      "cell_type": "code",
      "source": [
        "def materi(mat):\n",
        "  for i in mat:\n",
        "    print(\"Daftar Materi:\", i)\n",
        "\n",
        "mat = [\"Programming Concept\", \"CSIP\", \"SSIP\",\"SOA\",\"Cloud Computing\"]\n",
        "materi(mat)"
      ],
      "metadata": {
        "id": "W5-a0xzXMUqm",
        "colab": {
          "base_uri": "https://localhost:8080/"
        },
        "outputId": "48f534e4-c86b-49a5-93a9-0ae2a7e62b5a"
      },
      "execution_count": null,
      "outputs": [
        {
          "output_type": "stream",
          "name": "stdout",
          "text": [
            "Daftar Materi: Programming Concept\n",
            "Daftar Materi: CSIP\n",
            "Daftar Materi: SSIP\n",
            "Daftar Materi: SOA\n",
            "Daftar Materi: Cloud Computing\n"
          ]
        }
      ]
    },
    {
      "cell_type": "markdown",
      "source": [
        "##Return Values"
      ],
      "metadata": {
        "id": "jAKflp0rMntx"
      }
    },
    {
      "cell_type": "code",
      "source": [
        "def tambah(a,b):\n",
        "  c = a + b\n",
        "  return c\n",
        "\n",
        "a = 50\n",
        "b = 30\n",
        "hasil = tambah(a,b)\n",
        "print(hasil)\n",
        "\n",
        "a=80\n",
        "b=90\n",
        "\n",
        "print(tambah(a,b))"
      ],
      "metadata": {
        "id": "7Hj-x8izMpXA"
      },
      "execution_count": null,
      "outputs": []
    },
    {
      "cell_type": "markdown",
      "source": [
        "##Lambda"
      ],
      "metadata": {
        "id": "Mi3K5cN_NC4I"
      }
    },
    {
      "cell_type": "code",
      "source": [
        "x = lambda a,b:a+b\n",
        "print(x(12,2))"
      ],
      "metadata": {
        "id": "VJxwWZ2UND7z"
      },
      "execution_count": null,
      "outputs": []
    },
    {
      "cell_type": "code",
      "source": [
        "x=lambda umur:\"bukan tua\" if umur > 20 and umur < 50 else \"tua\"\n",
        "\n",
        "print(x(40))"
      ],
      "metadata": {
        "id": "s_sn-IqLNJS2"
      },
      "execution_count": null,
      "outputs": []
    },
    {
      "cell_type": "markdown",
      "source": [
        "##Math Functions"
      ],
      "metadata": {
        "id": "2e0G-YyENXoV"
      }
    },
    {
      "cell_type": "code",
      "source": [
        "import math\n",
        "x = math.ceil(28.7) #Buletin keatas\n",
        "y = math.floor(28.7) #Buletin kebawah\n",
        "z = math.sqrt(81) #Akar 2\n",
        "o = math.pi #Pi\n",
        "p = math.pow(4,3) #Pangkat\n",
        "q = math.fsum([1, 2, 3, 4, 5]) #Sum of list\n",
        "r = math.factorial(5) #Factorial\n",
        "print(x, y, z, o, p, q, r)"
      ],
      "metadata": {
        "id": "HkS1n4Z6NaE2",
        "colab": {
          "base_uri": "https://localhost:8080/"
        },
        "outputId": "d9cb8e78-dad2-484e-b1bb-59b0a011b871"
      },
      "execution_count": null,
      "outputs": [
        {
          "output_type": "stream",
          "name": "stdout",
          "text": [
            "29 28 9.0 3.141592653589793 64.0 15.0 120\n"
          ]
        }
      ]
    },
    {
      "cell_type": "markdown",
      "source": [
        "##OOP dan Class"
      ],
      "metadata": {
        "id": "MzNcNpYwOLSW"
      }
    },
    {
      "cell_type": "code",
      "source": [
        "class cal():\n",
        "    def __init__(self,a,b):\n",
        "        self.a = a\n",
        "        self.b = b\n",
        "    def add(self):\n",
        "        return self.a+self.b\n",
        "    def mul(self):\n",
        "        return self.a*self.b\n",
        "    def div(self):\n",
        "        return self.a//self.b\n",
        "    def sub(self):\n",
        "        return self.a-self.b\n",
        "        \n",
        "calc1 = cal(10,2)\n",
        "# tambah = calc1.add()\n",
        "# kurang = calc1.sub()\n",
        "kali = calc1.mul()\n",
        "bagi = calc1.div()\n",
        "\n",
        "print(\"Hasil Tambah:\", calc1.add())\n",
        "print(\"Hasil Kurang:\", calc1.sub())\n",
        "print(\"Hasil Kali:\", kali)\n",
        "print(\"Hasil Bagi:\", bagi)"
      ],
      "metadata": {
        "id": "pDN-63DvONy8",
        "colab": {
          "base_uri": "https://localhost:8080/"
        },
        "outputId": "1f79c01a-fcb2-48da-ebfa-643bc9d0f771"
      },
      "execution_count": null,
      "outputs": [
        {
          "output_type": "stream",
          "name": "stdout",
          "text": [
            "Hasil Tambah: 12\n",
            "Hasil Kurang: 8\n",
            "Hasil Kali: 20\n",
            "Hasil Bagi: 5\n"
          ]
        }
      ]
    },
    {
      "cell_type": "markdown",
      "source": [
        "# String Manipulation\n",
        "**Checkout more here: https://www.freecodecamp.org/news/python-string-manipulation-handbook/**"
      ],
      "metadata": {
        "id": "5OdGh98YJB_x"
      }
    }
  ]
}