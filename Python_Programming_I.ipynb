{
  "nbformat": 4,
  "nbformat_minor": 0,
  "metadata": {
    "colab": {
      "provenance": [],
      "toc_visible": true,
      "include_colab_link": true
    },
    "kernelspec": {
      "name": "python3",
      "display_name": "Python 3"
    },
    "language_info": {
      "name": "python"
    }
  },
  "cells": [
    {
      "cell_type": "markdown",
      "metadata": {
        "id": "view-in-github",
        "colab_type": "text"
      },
      "source": [
        "<a href=\"https://colab.research.google.com/github/Latiefabdul/Learning_Session/blob/main/Python_Programming_I.ipynb\" target=\"_parent\"><img src=\"https://colab.research.google.com/assets/colab-badge.svg\" alt=\"Open In Colab\"/></a>"
      ]
    },
    {
      "cell_type": "markdown",
      "source": [
        "# Section 1 - Introduction to **Python**\n",
        "\n",
        "\n",
        "\n"
      ],
      "metadata": {
        "id": "XLYNQPRZ6pZE"
      }
    },
    {
      "cell_type": "markdown",
      "source": [
        "## Section 1.1"
      ],
      "metadata": {
        "id": "gqQVZRKa67G4"
      }
    },
    {
      "cell_type": "markdown",
      "source": [
        "### Section 1.1.1"
      ],
      "metadata": {
        "id": "kFD43SlF7DYm"
      }
    },
    {
      "cell_type": "markdown",
      "source": [
        "# Print Command\n",
        "**Basic Print Code**"
      ],
      "metadata": {
        "id": "P93bOvXn1_FW"
      }
    },
    {
      "cell_type": "code",
      "execution_count": null,
      "metadata": {
        "colab": {
          "base_uri": "https://localhost:8080/"
        },
        "id": "VLaQxH1URLmv",
        "outputId": "3db0c499-c040-428b-ff85-df689e8b57bc"
      },
      "outputs": [
        {
          "output_type": "stream",
          "name": "stdout",
          "text": [
            "Hello Farah!!!!\n",
            "5\n"
          ]
        }
      ],
      "source": [
        "print(\"Hello Farah!!!!\") #ini adalah String\n",
        "print(5) #ini adalah integer"
      ]
    },
    {
      "cell_type": "markdown",
      "source": [
        "##Sequence"
      ],
      "metadata": {
        "id": "fBTyP7-jSbUD"
      }
    },
    {
      "cell_type": "code",
      "source": [
        "print(\"   /|\")\n",
        "print(\"  / |\")\n",
        "print(\" /  |\")\n",
        "print(\"/___|\")"
      ],
      "metadata": {
        "colab": {
          "base_uri": "https://localhost:8080/"
        },
        "id": "QH8t1ZD2R78w",
        "outputId": "05aac6e8-0ba5-4937-de39-7067c2615172"
      },
      "execution_count": null,
      "outputs": [
        {
          "output_type": "stream",
          "name": "stdout",
          "text": [
            "   /|\n",
            "  / |\n",
            " /  |\n",
            "/___|\n"
          ]
        }
      ]
    },
    {
      "cell_type": "markdown",
      "source": [
        "##Variables and Datatypes"
      ],
      "metadata": {
        "id": "tkRd20bOSqnG"
      }
    },
    {
      "cell_type": "code",
      "source": [
        "# Boolean\n",
        "laki = False\n",
        "perempuan = True\n",
        "# print(laki)\n",
        "\n",
        "# String\n",
        "namaku = \"Farah Yulianti\"\n",
        "# namaku = \"Alivia\"\n",
        "no_tlp = \"081727272626\"\n",
        "# print(no_tlp)\n",
        "\n",
        "# Integer\n",
        "umurku = 23\n",
        "tahunKelahiran = 2003\n",
        "tahunSekarang = 2022\n",
        "# print(umurku)\n",
        "# print(tahunSekarang - tahunKelahiran)\n",
        "\n",
        "# Float\n",
        "GPA = 4.563466\n",
        "# print(GPA)\n",
        "\n",
        "# Complex number\n",
        "angka = 2+2j\n",
        "# print(angka)\n",
        "\n",
        "print(type(laki))\n",
        "print(type(GPA))\n",
        "print(type(angka))\n",
        "print(type(umurku))"
      ],
      "metadata": {
        "colab": {
          "base_uri": "https://localhost:8080/"
        },
        "id": "kroKDkaJSd1-",
        "outputId": "505a8ee5-eb17-4e57-da35-31ad598e6c5b"
      },
      "execution_count": null,
      "outputs": [
        {
          "output_type": "stream",
          "name": "stdout",
          "text": [
            "<class 'bool'>\n",
            "<class 'float'>\n",
            "<class 'complex'>\n",
            "<class 'int'>\n"
          ]
        }
      ]
    },
    {
      "cell_type": "markdown",
      "source": [
        "##Jenis2 Format"
      ],
      "metadata": {
        "id": "6ZJTa8--Z8LD"
      }
    },
    {
      "cell_type": "code",
      "source": [
        "namaku1 = \"Nabila\"\n",
        "umurku1 = 27"
      ],
      "metadata": {
        "id": "s_YGyHl_8ZQ0"
      },
      "execution_count": null,
      "outputs": []
    },
    {
      "cell_type": "code",
      "source": [
        "# Cara pertama (+)\n",
        "print(\"Halo, namaku \" + namaku1)\n",
        "print(\"Halo, umurku \" + str(umurku1))\n",
        "\n",
        "# Cara kedua (,)\n",
        "print(\"Umurku\", umurku1)"
      ],
      "metadata": {
        "id": "CinhUzok1K-O",
        "colab": {
          "base_uri": "https://localhost:8080/"
        },
        "outputId": "7511008f-95ea-41f3-9247-f19c4c09c503"
      },
      "execution_count": null,
      "outputs": [
        {
          "output_type": "stream",
          "name": "stdout",
          "text": [
            "Halo, namaku Nabila\n",
            "Halo, umurku 27\n",
            "Umurku 27\n"
          ]
        }
      ]
    },
    {
      "cell_type": "code",
      "source": [
        "a = \"Gigih\"\n",
        "b = \"Ramadhani\"\n",
        "c = 22\n",
        "print(\"Saya \" + a + \" \" +b + \" \" + str(c)) #Cara lama (Python 2)\n",
        "print(\"Saya\",a,b,c) #(Python 3)\n",
        "\n",
        "# print(a,b)\n",
        "#print(b)"
      ],
      "metadata": {
        "id": "esSirf4CP76E",
        "colab": {
          "base_uri": "https://localhost:8080/"
        },
        "outputId": "847a653a-259b-42c6-d176-af70741132cc"
      },
      "execution_count": null,
      "outputs": [
        {
          "output_type": "stream",
          "name": "stdout",
          "text": [
            "Saya Gigih Ramadhani 22\n",
            "Saya Gigih Ramadhani 22\n"
          ]
        }
      ]
    },
    {
      "cell_type": "code",
      "source": [
        "print(\"Halo, namaku\", namaku)\n",
        "print(\"Umurku\", umurku)"
      ],
      "metadata": {
        "id": "4cZACgK31O_-"
      },
      "execution_count": null,
      "outputs": []
    },
    {
      "cell_type": "code",
      "source": [
        "# %-Formatting\n",
        "print(\"Halo, namaku %s.\\nUmurku %s. %s umur %s\" % (namaku, umurku, namaku, umurku))\n",
        "# \\n artinya adalah enter"
      ],
      "metadata": {
        "id": "WvWRveGn1YlJ"
      },
      "execution_count": null,
      "outputs": []
    },
    {
      "cell_type": "code",
      "source": [
        "# str.format()\n",
        "print(\"Halo, namaku {nama}.\\nUmurku {umur}.\\n{nama} umur {umur}\".format(nama = namaku, umur = umurku))"
      ],
      "metadata": {
        "id": "_SK76fWH1eJH"
      },
      "execution_count": null,
      "outputs": []
    },
    {
      "cell_type": "code",
      "source": [
        "# f-String\n",
        "print(f\"Halo, namaku {namaku}.\\nUmurku {umurku}.\\n{namaku} umur {umurku}\")\n",
        "print(f\"Halo, namaku {namaku}.\\nUmurku {umurku}.\\n{namaku} umur {tahunSekarang - tahunKelahiran}\")\n",
        "print(f\"{{{tahunSekarang - tahunKelahiran}}}\")"
      ],
      "metadata": {
        "id": "yL2FszAFVGd2"
      },
      "execution_count": null,
      "outputs": []
    },
    {
      "cell_type": "markdown",
      "source": [
        "##Import Library"
      ],
      "metadata": {
        "id": "DVwzcYSNB0Ut"
      }
    },
    {
      "cell_type": "code",
      "source": [
        "# Menginstall Library pandas\n",
        "!pip install pandas"
      ],
      "metadata": {
        "id": "IT53xS8-BkzV",
        "colab": {
          "base_uri": "https://localhost:8080/"
        },
        "outputId": "3dd6a426-6d61-4fd2-a069-e10544e13159"
      },
      "execution_count": null,
      "outputs": [
        {
          "output_type": "stream",
          "name": "stdout",
          "text": [
            "Looking in indexes: https://pypi.org/simple, https://us-python.pkg.dev/colab-wheels/public/simple/\n",
            "Requirement already satisfied: pandas in /usr/local/lib/python3.7/dist-packages (1.3.5)\n",
            "Requirement already satisfied: pytz>=2017.3 in /usr/local/lib/python3.7/dist-packages (from pandas) (2022.4)\n",
            "Requirement already satisfied: python-dateutil>=2.7.3 in /usr/local/lib/python3.7/dist-packages (from pandas) (2.8.2)\n",
            "Requirement already satisfied: numpy>=1.17.3 in /usr/local/lib/python3.7/dist-packages (from pandas) (1.21.6)\n",
            "Requirement already satisfied: six>=1.5 in /usr/local/lib/python3.7/dist-packages (from python-dateutil>=2.7.3->pandas) (1.15.0)\n"
          ]
        }
      ]
    },
    {
      "cell_type": "code",
      "source": [
        "import tensorflow as tf #Library\n",
        "import numpy as np\n",
        "import pandas as pd\n",
        "from sklearn.neighbors import NearestNeighbors #Library\n",
        "from sklearn.metrics import accuracy_score"
      ],
      "metadata": {
        "id": "tCBhfs-gB3Tn"
      },
      "execution_count": null,
      "outputs": []
    },
    {
      "cell_type": "markdown",
      "source": [
        "## Arithmethic Operation"
      ],
      "metadata": {
        "id": "q3DEk9V7055D"
      }
    },
    {
      "cell_type": "code",
      "source": [
        "import math\n",
        "a = 13.0\n",
        "b = 3\n",
        "c = 81\n",
        "\n",
        "# print(type(a))\n",
        "print(a + b)\n",
        "print(a * b)\n",
        "print(a - b)\n",
        "print(a / b)\n",
        "print(a // b)\n",
        "print(a % b)\n",
        "print(a ** b) #Pangkat\n",
        "print(pow(a,b)) #Pangkat\n",
        "print(abs(a)) #Absolute (negative jd positive)\n",
        "print(math.sqrt(c))\n",
        "\n",
        "print(max(3,4,5,6,10))\n",
        "print(min(3,4,5,6,10))"
      ],
      "metadata": {
        "id": "6tLwfVmWZcZo",
        "colab": {
          "base_uri": "https://localhost:8080/"
        },
        "outputId": "cf09be0f-0bc3-44f4-f358-ba17f756af7f"
      },
      "execution_count": null,
      "outputs": [
        {
          "output_type": "stream",
          "name": "stdout",
          "text": [
            "16.0\n",
            "39.0\n",
            "10.0\n",
            "4.333333333333333\n",
            "4.0\n",
            "1.0\n",
            "2197.0\n",
            "2197.0\n",
            "13.0\n",
            "9.0\n",
            "10\n",
            "3\n"
          ]
        }
      ]
    },
    {
      "cell_type": "markdown",
      "source": [
        "##Logical Operator"
      ],
      "metadata": {
        "id": "wUnaKZIM_tmf"
      }
    },
    {
      "cell_type": "code",
      "source": [
        "x = 5\n",
        "y = 12\n",
        "\n",
        "# AND = HARUS TRUE SEMUA UNTUK HASIL TRUE\n",
        "# OR = SALAH SATU TRUE YA UDAH TRUE\n",
        "# NOT = KEBALIKANNYA DARI HASIL OPERATOR AND / OR\n",
        "\n",
        "print(x > 3 and y < 10) #False\n",
        "print(x > 3 or y < 4) #True\n",
        "print(not(x > 5 and y < 12))#True"
      ],
      "metadata": {
        "colab": {
          "base_uri": "https://localhost:8080/"
        },
        "id": "wMDjnvFe_xZ4",
        "outputId": "5f16ce2e-b020-4769-ca3c-334b5bbda5e6"
      },
      "execution_count": null,
      "outputs": [
        {
          "output_type": "stream",
          "name": "stdout",
          "text": [
            "False\n",
            "True\n",
            "True\n"
          ]
        }
      ]
    },
    {
      "cell_type": "markdown",
      "source": [
        "##Conditional"
      ],
      "metadata": {
        "id": "1OsjT-kbC0sU"
      }
    },
    {
      "cell_type": "code",
      "source": [
        "a = 600\n",
        "b = 630\n",
        "\n",
        "if b > a:\n",
        "  print(\"b lebih besar dari a\")\n",
        "else:\n",
        "  print(\"ini a lho yg lbh gede\")\n"
      ],
      "metadata": {
        "colab": {
          "base_uri": "https://localhost:8080/"
        },
        "id": "DgwEWqCWC2YQ",
        "outputId": "77d829f1-73b2-42e7-d309-b57cc5672601"
      },
      "execution_count": null,
      "outputs": [
        {
          "output_type": "stream",
          "name": "stdout",
          "text": [
            "b lebih besar dari a\n"
          ]
        }
      ]
    },
    {
      "cell_type": "code",
      "source": [
        "a = 8 #1000, 8, 9, 90\n",
        "b = 33\n",
        "c = 190\n",
        "\n",
        "# = maka assign nilai\n",
        "# == maka compare nilai\n",
        "\n",
        "if (a > b or a > c) and a >= 1000:\n",
        "  print(\"A adalah yg terbesar\")\n",
        "elif (a == 9):\n",
        "  print(\"A adalah 9\")\n",
        "elif (a > b or a > c) and a <= 1000:\n",
        "  print(\"Salah Satu kondisi adalah Benar\")\n",
        "else:\n",
        "  print(\"Semua salah\")"
      ],
      "metadata": {
        "colab": {
          "base_uri": "https://localhost:8080/"
        },
        "id": "qjzrSqVTHBBO",
        "outputId": "b0af09ed-756c-4f29-b09b-be5b1bb0765e"
      },
      "execution_count": null,
      "outputs": [
        {
          "output_type": "stream",
          "name": "stdout",
          "text": [
            "Semua salah\n"
          ]
        }
      ]
    },
    {
      "cell_type": "code",
      "source": [
        "\n",
        "# if a > b and c > a and c < 1000:\n",
        "#   print(\"Kedua kondisi Benar\")\n",
        "#   s = 20\n",
        "# elif a > b and a > c:\n",
        "#   print(\"a itu terbesar\")\n",
        "#   s = 40\n",
        "# elif c > b and c > a and c > 1000:\n",
        "#   print(\"C itu terbesar\")\n",
        "#   s = 50\n",
        "# else:\n",
        "#   print(\"ada yg salah tuh\")\n",
        "#   s = 0\n"
      ],
      "metadata": {
        "id": "sg2nmPBwZo4Q"
      },
      "execution_count": null,
      "outputs": []
    },
    {
      "cell_type": "markdown",
      "source": [
        "##Nested If"
      ],
      "metadata": {
        "id": "4fhSSs0IEAUO"
      }
    },
    {
      "cell_type": "code",
      "source": [
        "x = 19 #9,19,21\n",
        "\n",
        "# indent\n",
        "if x > 10:\n",
        "  print(\"Diatas sepuluh,\")\n",
        "  if x > 20:\n",
        "    print(\"Diatas 20 juga!!\")\n",
        "  else:\n",
        "    print(\"tapi tidak diatas 20.\")\n",
        "else:\n",
        "  print(\"Nilai dibawah 10\")"
      ],
      "metadata": {
        "colab": {
          "base_uri": "https://localhost:8080/"
        },
        "id": "fNOaY9q-D_Ax",
        "outputId": "dddf3a42-a813-49ba-c222-94f487545ff2"
      },
      "execution_count": null,
      "outputs": [
        {
          "output_type": "stream",
          "name": "stdout",
          "text": [
            "Diatas sepuluh,\n",
            "tapi tidak diatas 20.\n"
          ]
        }
      ]
    },
    {
      "cell_type": "markdown",
      "source": [
        "# List"
      ],
      "metadata": {
        "id": "Ldw4DgDhADnY"
      }
    },
    {
      "cell_type": "code",
      "source": [
        "nama = [\"Farah\", \"Agil\", \"Muggy\",\"Farah\"]\n",
        "Jabatan = [\"Tutor DS18\", \"Tutor DS16\", \"Tutor DS12\"]"
      ],
      "metadata": {
        "id": "BJ3xNR5fAJWq"
      },
      "execution_count": null,
      "outputs": []
    },
    {
      "cell_type": "code",
      "source": [
        "nama[3] = \"Aries\"\n",
        "print(nama)\n",
        "Jabatan[2] = \"Tutor Python 1\"\n",
        "\n",
        "print(Jabatan[2])"
      ],
      "metadata": {
        "colab": {
          "base_uri": "https://localhost:8080/"
        },
        "id": "d6h9S3QiAdyy",
        "outputId": "cd36ff06-73c9-4318-bccb-9aa9f0a13b6b"
      },
      "execution_count": null,
      "outputs": [
        {
          "output_type": "stream",
          "name": "stdout",
          "text": [
            "['Farah', 'Agil', 'Muggy', 'Aries']\n",
            "Tutor Python 1\n"
          ]
        }
      ]
    },
    {
      "cell_type": "markdown",
      "source": [
        "# Tuple"
      ],
      "metadata": {
        "id": "9P_caInjB60H"
      }
    },
    {
      "cell_type": "code",
      "source": [
        "nama_tutor = (\"Farah\", \"Agil\", \"Muggy\")\n",
        "Kota = (\"Chicago\", \"New York\", \"Tokyo\")"
      ],
      "metadata": {
        "id": "2BUcU5dkB8bf"
      },
      "execution_count": null,
      "outputs": []
    },
    {
      "cell_type": "code",
      "source": [
        "Kota[2]"
      ],
      "metadata": {
        "colab": {
          "base_uri": "https://localhost:8080/",
          "height": 36
        },
        "id": "irWIKkWqf7CZ",
        "outputId": "a1d1e9c2-6360-4419-83f9-87ed65408314"
      },
      "execution_count": null,
      "outputs": [
        {
          "output_type": "execute_result",
          "data": {
            "text/plain": [
              "'Tokyo'"
            ],
            "application/vnd.google.colaboratory.intrinsic+json": {
              "type": "string"
            }
          },
          "metadata": {},
          "execution_count": 52
        }
      ]
    },
    {
      "cell_type": "code",
      "source": [
        "print(Kota[2])"
      ],
      "metadata": {
        "colab": {
          "base_uri": "https://localhost:8080/"
        },
        "id": "axOJ32WLRC6t",
        "outputId": "a90f4925-e643-4660-c899-40e2e560f5d9"
      },
      "execution_count": null,
      "outputs": [
        {
          "output_type": "stream",
          "name": "stdout",
          "text": [
            "Tokyo\n"
          ]
        }
      ]
    },
    {
      "cell_type": "code",
      "source": [
        "nama_tutor[1]"
      ],
      "metadata": {
        "colab": {
          "base_uri": "https://localhost:8080/",
          "height": 36
        },
        "id": "Z1oH-2GQgIb5",
        "outputId": "cbee661c-b9cb-4af3-f139-f93fc835d4ec"
      },
      "execution_count": null,
      "outputs": [
        {
          "output_type": "execute_result",
          "data": {
            "text/plain": [
              "'Agil'"
            ],
            "application/vnd.google.colaboratory.intrinsic+json": {
              "type": "string"
            }
          },
          "metadata": {},
          "execution_count": 41
        }
      ]
    },
    {
      "cell_type": "markdown",
      "source": [
        "# Dictionary"
      ],
      "metadata": {
        "id": "uW3L_OGlC2VS"
      }
    },
    {
      "cell_type": "code",
      "source": [
        "car = {\n",
        "  \"brand\": \"Ford\",\n",
        "  \"model\": \"Mustang\",\n",
        "  \"year\": 1964\n",
        "}"
      ],
      "metadata": {
        "id": "zdpUvZV_C4AF"
      },
      "execution_count": null,
      "outputs": []
    },
    {
      "cell_type": "code",
      "source": [
        "car[\"year\"]"
      ],
      "metadata": {
        "colab": {
          "base_uri": "https://localhost:8080/"
        },
        "id": "sGsyw6ObMSQ7",
        "outputId": "0e31430f-9c75-4576-c2a7-5d6c94955ee9"
      },
      "execution_count": null,
      "outputs": [
        {
          "output_type": "execute_result",
          "data": {
            "text/plain": [
              "1964"
            ]
          },
          "metadata": {},
          "execution_count": 50
        }
      ]
    },
    {
      "cell_type": "code",
      "source": [
        "car[\"model\"] = \"Sedan\"\n",
        "# car[\"model\"]\n",
        "\n",
        "car"
      ],
      "metadata": {
        "colab": {
          "base_uri": "https://localhost:8080/"
        },
        "id": "Y0TswbSlC4DW",
        "outputId": "a0261289-ee95-4ac3-c7c6-e1e84b3053dc"
      },
      "execution_count": null,
      "outputs": [
        {
          "output_type": "execute_result",
          "data": {
            "text/plain": [
              "{'brand': 'Ford', 'model': 'Sedan', 'year': 1964}"
            ]
          },
          "metadata": {},
          "execution_count": 56
        }
      ]
    },
    {
      "cell_type": "code",
      "source": [
        "car['model']"
      ],
      "metadata": {
        "colab": {
          "base_uri": "https://localhost:8080/",
          "height": 36
        },
        "id": "DE3Qrd57Ma62",
        "outputId": "821032c5-c177-40a5-9846-1db851cdec5c"
      },
      "execution_count": null,
      "outputs": [
        {
          "output_type": "execute_result",
          "data": {
            "text/plain": [
              "'Mustang'"
            ],
            "application/vnd.google.colaboratory.intrinsic+json": {
              "type": "string"
            }
          },
          "metadata": {},
          "execution_count": 58
        }
      ]
    }
  ]
}