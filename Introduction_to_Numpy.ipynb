{
  "nbformat": 4,
  "nbformat_minor": 0,
  "metadata": {
    "colab": {
      "provenance": [],
      "toc_visible": true,
      "include_colab_link": true
    },
    "kernelspec": {
      "name": "python3",
      "display_name": "Python 3"
    },
    "language_info": {
      "name": "python"
    }
  },
  "cells": [
    {
      "cell_type": "markdown",
      "metadata": {
        "id": "view-in-github",
        "colab_type": "text"
      },
      "source": [
        "<a href=\"https://colab.research.google.com/github/Latiefabdul/Learning_Session/blob/main/Introduction_to_Numpy.ipynb\" target=\"_parent\"><img src=\"https://colab.research.google.com/assets/colab-badge.svg\" alt=\"Open In Colab\"/></a>"
      ]
    },
    {
      "cell_type": "markdown",
      "metadata": {
        "id": "Z5kfM00HnBzD"
      },
      "source": [
        "# **Introduction to NumPy**"
      ]
    },
    {
      "cell_type": "markdown",
      "metadata": {
        "id": "muH4B1sQnIQV"
      },
      "source": [
        "# Import NumPy"
      ]
    },
    {
      "cell_type": "code",
      "metadata": {
        "id": "EPFDqY0unS52"
      },
      "source": [
        "import numpy as np"
      ],
      "execution_count": null,
      "outputs": []
    },
    {
      "cell_type": "code",
      "metadata": {
        "id": "C-NngBRpR6qu",
        "colab": {
          "base_uri": "https://localhost:8080/"
        },
        "outputId": "1cbbcf19-f612-4e4a-fa20-50bbc704abbb"
      },
      "source": [
        "#Declare Array\n",
        "a = np.array([[1,2,3],[4,5,6]]) #Matriks\n",
        "b = np.array([[[1,2],[3,4]],[[5,6],[7,8]], [[9,10],[11,12]]]) #Tensor\n",
        "print(\"Matriks:\")\n",
        "print(a)\n",
        "print(\"\\n\")\n",
        "print(\"Tensor:\")\n",
        "print(b)"
      ],
      "execution_count": null,
      "outputs": [
        {
          "output_type": "stream",
          "name": "stdout",
          "text": [
            "Matriks:\n",
            "[[1 2 3]\n",
            " [4 5 6]]\n",
            "\n",
            "\n",
            "Tensor:\n",
            "[[[ 1  2]\n",
            "  [ 3  4]]\n",
            "\n",
            " [[ 5  6]\n",
            "  [ 7  8]]\n",
            "\n",
            " [[ 9 10]\n",
            "  [11 12]]]\n"
          ]
        }
      ]
    },
    {
      "cell_type": "code",
      "metadata": {
        "colab": {
          "base_uri": "https://localhost:8080/"
        },
        "id": "zTF4sP96ka8-",
        "outputId": "1bc4fafa-708f-449d-dcde-ab6a915f6fd3"
      },
      "source": [
        "#Ini untuk mencari tahu bentuk dari sebuah array/matriks/tensor\n",
        "c=np.shape(a)\n",
        "d=np.shape(b)\n",
        "print(c)\n",
        "print(d)"
      ],
      "execution_count": null,
      "outputs": [
        {
          "output_type": "stream",
          "name": "stdout",
          "text": [
            "(2, 3)\n",
            "(3, 2, 2)\n"
          ]
        }
      ]
    },
    {
      "cell_type": "code",
      "source": [
        "a.shape"
      ],
      "metadata": {
        "colab": {
          "base_uri": "https://localhost:8080/"
        },
        "id": "hnw7MSHsJvvZ",
        "outputId": "178ac769-873b-4d48-817c-a30adb91c820"
      },
      "execution_count": null,
      "outputs": [
        {
          "output_type": "execute_result",
          "data": {
            "text/plain": [
              "(2, 3)"
            ]
          },
          "metadata": {},
          "execution_count": 38
        }
      ]
    },
    {
      "cell_type": "code",
      "metadata": {
        "colab": {
          "base_uri": "https://localhost:8080/"
        },
        "id": "Z2-63OrRkzj9",
        "outputId": "ad531392-5ab1-4dbf-b220-5de5e4bbe20b"
      },
      "source": [
        "#Untuk mengambil elemen yang spesifik (r, c)\n",
        "print(a[0,1])"
      ],
      "execution_count": null,
      "outputs": [
        {
          "output_type": "stream",
          "name": "stdout",
          "text": [
            "2\n"
          ]
        }
      ]
    },
    {
      "cell_type": "code",
      "metadata": {
        "colab": {
          "base_uri": "https://localhost:8080/"
        },
        "id": "HeS-TtLClM8o",
        "outputId": "b719cc31-b8e0-400d-c04a-48900fee74a5"
      },
      "source": [
        "#Untuk Mengambil row (r, :)\n",
        "print(a[0,:])"
      ],
      "execution_count": null,
      "outputs": [
        {
          "output_type": "stream",
          "name": "stdout",
          "text": [
            "[1 2 3]\n"
          ]
        }
      ]
    },
    {
      "cell_type": "code",
      "metadata": {
        "colab": {
          "base_uri": "https://localhost:8080/"
        },
        "id": "JBA6T22mld2G",
        "outputId": "d3a907d9-ee95-40aa-de44-d06b54ce7702"
      },
      "source": [
        "#untuk mengambil kolom (:, c)\n",
        "print(a[:,1])"
      ],
      "execution_count": null,
      "outputs": [
        {
          "output_type": "stream",
          "name": "stdout",
          "text": [
            "[2 5]\n"
          ]
        }
      ]
    },
    {
      "cell_type": "code",
      "metadata": {
        "colab": {
          "base_uri": "https://localhost:8080/"
        },
        "id": "TKk6tXkCls4h",
        "outputId": "a31d2375-77c1-4d28-c8ff-f642c397db5e"
      },
      "source": [
        "#Cara mengganti Value di 2-D Array\n",
        "a[1,1] = 10\n",
        "a[1,2] = 12\n",
        "print(a)"
      ],
      "execution_count": null,
      "outputs": [
        {
          "output_type": "stream",
          "name": "stdout",
          "text": [
            "[[ 1  2  3]\n",
            " [ 4 10 12]]\n"
          ]
        }
      ]
    },
    {
      "cell_type": "markdown",
      "metadata": {
        "id": "bYY7Y2_jnM22"
      },
      "source": [
        "# NumPy Array"
      ]
    },
    {
      "cell_type": "markdown",
      "metadata": {
        "id": "eOx70XOP75Fs"
      },
      "source": [
        "## *1.NumPy Array*"
      ]
    },
    {
      "cell_type": "code",
      "metadata": {
        "id": "SVpOdtnsnec8",
        "colab": {
          "base_uri": "https://localhost:8080/"
        },
        "outputId": "42493c82-e805-4e3c-955d-3bad44d9c98c"
      },
      "source": [
        "#Function untuk mendefinisikan nilai dalam array\n",
        "#Single Dimensional Array\n",
        "print(np.array([1,2,3,4,5,6,7,8])) #Vector\n",
        "print('\\n')\n",
        "\n",
        "#Two-Dimensional Array\n",
        "print(np.array([[1,2],[3,4],[5,6],[7,8]])) #Matriks\n",
        "print('\\n')\n",
        "\n",
        "#Three-Dimensional Array\n",
        "arr3d = np.array([[[1,2],[3,4]],[[5,6],[7,8]],[[9,10],[11,12]]]) #Tensor\n",
        "print(arr3d)\n",
        "print(\"\\n\")\n",
        "print(arr3d[1,1,0])\n",
        "print(\"\\n\")\n",
        "print(arr3d.shape)"
      ],
      "execution_count": null,
      "outputs": [
        {
          "output_type": "stream",
          "name": "stdout",
          "text": [
            "[1 2 3 4 5 6 7 8]\n",
            "\n",
            "\n",
            "[[1 2]\n",
            " [3 4]\n",
            " [5 6]\n",
            " [7 8]]\n",
            "\n",
            "\n",
            "[[[ 1  2]\n",
            "  [ 3  4]]\n",
            "\n",
            " [[ 5  6]\n",
            "  [ 7  8]]\n",
            "\n",
            " [[ 9 10]\n",
            "  [11 12]]]\n",
            "\n",
            "\n",
            "7\n",
            "\n",
            "\n",
            "(3, 2, 2)\n"
          ]
        }
      ]
    },
    {
      "cell_type": "markdown",
      "metadata": {
        "id": "qieDFJez7_QN"
      },
      "source": [
        "## *2.NumPy Arange*"
      ]
    },
    {
      "cell_type": "code",
      "metadata": {
        "id": "zrls4spN8Ele",
        "colab": {
          "base_uri": "https://localhost:8080/"
        },
        "outputId": "ee10d5a7-c4ba-417f-a536-4dca2fc95877"
      },
      "source": [
        "#Function untuk mendefinisikan nilai-nilai yang berjarak sama dalam interval yang ditentukan dalam array\n",
        "print(np.arange(8)) #Hanya Stop\n",
        "print('\\n')\n",
        "print(np.arange(1,8)) #Start dan Stop\n",
        "print('\\n')\n",
        "print(np.arange(1,18,3)) #Start, Stop, Step"
      ],
      "execution_count": null,
      "outputs": [
        {
          "output_type": "stream",
          "name": "stdout",
          "text": [
            "[0 1 2 3 4 5 6 7]\n",
            "\n",
            "\n",
            "[1 2 3 4 5 6 7]\n",
            "\n",
            "\n",
            "[ 1  4  7 10 13 16]\n"
          ]
        }
      ]
    },
    {
      "cell_type": "markdown",
      "metadata": {
        "id": "2euW-UKM8T4o"
      },
      "source": [
        "## *3.NumPy zeros*"
      ]
    },
    {
      "cell_type": "code",
      "metadata": {
        "id": "6Td6ydsL8f02"
      },
      "source": [
        "#Function untuk menampilkan array baru degan ukuran tertentu dan berisi 0\n",
        "#Default dtype adalah float\n",
        "print(np.zeros(5))\n",
        "print('\\n')\n",
        "print(np.zeros((5,5),dtype=int))"
      ],
      "execution_count": null,
      "outputs": []
    },
    {
      "cell_type": "markdown",
      "metadata": {
        "id": "nmfj-bob8fFB"
      },
      "source": [
        "## *4.NumPy ones*"
      ]
    },
    {
      "cell_type": "code",
      "metadata": {
        "id": "x2DAPdDB8kRi",
        "colab": {
          "base_uri": "https://localhost:8080/"
        },
        "outputId": "48075a05-64b3-4ee8-a2c0-6d75d677a85f"
      },
      "source": [
        "#Function untuk menampilkan array baru degan ukuran tertentu dan berisi 1\n",
        "#Default dtype adalah float\n",
        "print(np.ones(5))\n",
        "print('\\n')\n",
        "print(np.ones((3,4), dtype=int))"
      ],
      "execution_count": null,
      "outputs": [
        {
          "output_type": "stream",
          "name": "stdout",
          "text": [
            "[1. 1. 1. 1. 1.]\n",
            "\n",
            "\n",
            "[[1 1 1 1]\n",
            " [1 1 1 1]\n",
            " [1 1 1 1]]\n"
          ]
        }
      ]
    },
    {
      "cell_type": "markdown",
      "metadata": {
        "id": "qiAUwOfrnPRd"
      },
      "source": [
        "# Manipulasi Array"
      ]
    },
    {
      "cell_type": "markdown",
      "metadata": {
        "id": "Ik_yirLHoHBz"
      },
      "source": [
        "## *1. Reshape*\n",
        "\n",
        "---\n",
        "\n",
        "\n"
      ]
    },
    {
      "cell_type": "code",
      "metadata": {
        "id": "0EwlFR6g7WDx",
        "colab": {
          "base_uri": "https://localhost:8080/"
        },
        "outputId": "759ab27d-ee7f-4165-da80-6641ef6723e4"
      },
      "source": [
        "a = np.array([1,2,3,4,5,6,7,8,9,10,11,12])\n",
        "print('Array:')\n",
        "print(a)\n",
        "print('\\n')\n",
        "\n",
        "#Kemudian array di Re-Shape menjadi bentuk ordo 3x4\n",
        "#Cara 1\n",
        "# b = np.reshape(a,(3,4))\n",
        "\n",
        "#Cara 2\n",
        "b= a.reshape(3,4)\n",
        "# print('Array yang dimodify:')\n",
        "print(b)"
      ],
      "execution_count": null,
      "outputs": [
        {
          "output_type": "stream",
          "name": "stdout",
          "text": [
            "Array:\n",
            "[ 1  2  3  4  5  6  7  8  9 10 11 12]\n",
            "\n",
            "\n",
            "[[ 1  2  3  4]\n",
            " [ 5  6  7  8]\n",
            " [ 9 10 11 12]]\n"
          ]
        }
      ]
    },
    {
      "cell_type": "markdown",
      "metadata": {
        "id": "5B_JDoIGpfSc"
      },
      "source": [
        "## *2. Flatten*"
      ]
    },
    {
      "cell_type": "code",
      "metadata": {
        "id": "NZ0Dqcidpmw-",
        "colab": {
          "base_uri": "https://localhost:8080/"
        },
        "outputId": "f3910a2a-21b4-471a-eef7-bb88e1d481d4"
      },
      "source": [
        "#Array kembali menjadi bentuk Single-Dimensional Array\n",
        "c = np.array(b).flatten()\n",
        "print(c)"
      ],
      "execution_count": null,
      "outputs": [
        {
          "output_type": "stream",
          "name": "stdout",
          "text": [
            "[ 1  2  3  4  5  6  7  8  9 10 11 12]\n"
          ]
        }
      ]
    },
    {
      "cell_type": "code",
      "metadata": {
        "id": "wH6PrTrgtcJ_",
        "colab": {
          "base_uri": "https://localhost:8080/"
        },
        "outputId": "41b3eb9d-4f9c-46fd-9ec4-98d91fc0c533"
      },
      "source": [
        "d = np.array([[1,2],[3,4],[5,6],[7,8]])\n",
        "print(d)\n",
        "print('\\n')\n",
        "\n",
        "#Cara 1\n",
        "#e = np.array(d).flatten()\n",
        "\n",
        "#Cara 2\n",
        "e = d.flatten()\n",
        "print(e)"
      ],
      "execution_count": null,
      "outputs": [
        {
          "output_type": "stream",
          "name": "stdout",
          "text": [
            "[[1 2]\n",
            " [3 4]\n",
            " [5 6]\n",
            " [7 8]]\n",
            "\n",
            "\n",
            "[1 2 3 4 5 6 7 8]\n"
          ]
        }
      ]
    },
    {
      "cell_type": "markdown",
      "metadata": {
        "id": "melSl_Y9ynxr"
      },
      "source": [
        "## *3.Transpose*"
      ]
    },
    {
      "cell_type": "code",
      "metadata": {
        "id": "O0NlbJIKyxeO",
        "colab": {
          "base_uri": "https://localhost:8080/"
        },
        "outputId": "f5c5dfab-16dc-41c5-b5ab-ea5eaf108c04"
      },
      "source": [
        "TransMat = np.array(b).transpose()\n",
        "# Transmat = b.transpose\n",
        "print(TransMat)"
      ],
      "execution_count": null,
      "outputs": [
        {
          "output_type": "stream",
          "name": "stdout",
          "text": [
            "[[ 1  5  9]\n",
            " [ 2  6 10]\n",
            " [ 3  7 11]\n",
            " [ 4  8 12]]\n"
          ]
        }
      ]
    },
    {
      "cell_type": "markdown",
      "metadata": {
        "id": "5-VeN5Zv6sMF"
      },
      "source": [
        "\n",
        "\n",
        "---\n",
        "\n",
        "\n"
      ]
    },
    {
      "cell_type": "markdown",
      "metadata": {
        "id": "_L449Htpg721"
      },
      "source": [
        "**Axis / Axes**\n"
      ]
    },
    {
      "cell_type": "markdown",
      "metadata": {
        "id": "vqC7L5E0iznN"
      },
      "source": [
        "Digunakan untuk array yang lebih dari 1 Dimensi. Dalam 2-D array.\n"
      ]
    },
    {
      "cell_type": "markdown",
      "metadata": {
        "id": "PFhk8t3ni15P"
      },
      "source": [
        "Axis 0 adalah sepanjang vertikal ke bawah melintasi baris (row).\n",
        "Axis 1 adalah sepanjang horizontal ke samping melintasi kolom (column)"
      ]
    },
    {
      "cell_type": "markdown",
      "metadata": {
        "id": "0W95e_H13oyi"
      },
      "source": [
        "## *4.Concatenate*"
      ]
    },
    {
      "cell_type": "code",
      "metadata": {
        "id": "X1nST2kK3td1"
      },
      "source": [
        "Arr1 = np.array([[1,2,3],[4,5,6],[7,8,9]])\n",
        "Arr2 = np.array([[20,21,22],[23,24,25],[26,27,28]])\n",
        "\n",
        "#Ini Concatenate dalam Axis 0\n",
        "print(\"Concatenate 2 Array dalam axis 0:\") #Baris / Row\n",
        "print(np.concatenate((Arr1,Arr2)))\n",
        "\n",
        "#Ini Concatenate dalam Axis 1\n",
        "print(\"\\nConcatenate 2 Array dalam axis 1:\") #Kolom / Column\n",
        "print(np.concatenate((Arr1,Arr2), axis = 1))"
      ],
      "execution_count": null,
      "outputs": []
    },
    {
      "cell_type": "code",
      "source": [
        "x = np.arange(1,7).reshape(2,3)\n",
        "y = np.arange(1,3)\n",
        "print(x)\n",
        "print(y)\n",
        "print(\"\\n\")\n",
        "z = np.concatenate((x,y[:,None]),axis=1)\n",
        "print(z)"
      ],
      "metadata": {
        "colab": {
          "base_uri": "https://localhost:8080/"
        },
        "id": "6oDGUn5vTjAl",
        "outputId": "6b8b0cc4-210f-4a59-9aec-51e639e649c2"
      },
      "execution_count": null,
      "outputs": [
        {
          "output_type": "stream",
          "name": "stdout",
          "text": [
            "[[1 2 3]\n",
            " [4 5 6]]\n",
            "[1 2]\n",
            "\n",
            "\n",
            "[[1 2 3 1]\n",
            " [4 5 6 2]]\n"
          ]
        }
      ]
    },
    {
      "cell_type": "markdown",
      "metadata": {
        "id": "g5t8dveC6plz"
      },
      "source": [
        "## *5.Stack*"
      ]
    },
    {
      "cell_type": "code",
      "metadata": {
        "id": "M_90O065KH5b",
        "colab": {
          "base_uri": "https://localhost:8080/"
        },
        "outputId": "9a42f211-d3b6-42a0-9eda-0d4264c7c005"
      },
      "source": [
        "Arr1 = np.array([[1,2,3],[4,5,6],[7,8,9]])\n",
        "Arr2 = np.array([[20,21,22],[23,24,25],[26,27,28]])\n",
        "\n",
        "#Ini Stack dalam Axis -1\n",
        "print(\"Stack 2 Array dalam axis -1:\")\n",
        "print(np.stack((Arr1,Arr2), axis = -1))\n",
        "\n",
        "#Ini stack dalam Axis 0\n",
        "print(\"\\nStack 2 Array dalam axis 0:\")\n",
        "print(np.stack((Arr1,Arr2)))\n",
        "\n",
        "#Ini stack dalam Axis 1\n",
        "print(\"\\nStack 2 Array dalam axis 1:\")\n",
        "print(np.stack((Arr1,Arr2), axis = 1))"
      ],
      "execution_count": null,
      "outputs": [
        {
          "output_type": "stream",
          "name": "stdout",
          "text": [
            "Stack 2 Array dalam axis -1:\n",
            "[[[ 1 20]\n",
            "  [ 2 21]\n",
            "  [ 3 22]]\n",
            "\n",
            " [[ 4 23]\n",
            "  [ 5 24]\n",
            "  [ 6 25]]\n",
            "\n",
            " [[ 7 26]\n",
            "  [ 8 27]\n",
            "  [ 9 28]]]\n",
            "\n",
            "Stack 2 Array dalam axis 0:\n",
            "[[[ 1  2  3]\n",
            "  [ 4  5  6]\n",
            "  [ 7  8  9]]\n",
            "\n",
            " [[20 21 22]\n",
            "  [23 24 25]\n",
            "  [26 27 28]]]\n",
            "\n",
            "Stack 2 Array dalam axis 1:\n",
            "[[[ 1  2  3]\n",
            "  [20 21 22]]\n",
            "\n",
            " [[ 4  5  6]\n",
            "  [23 24 25]]\n",
            "\n",
            " [[ 7  8  9]\n",
            "  [26 27 28]]]\n"
          ]
        }
      ]
    },
    {
      "cell_type": "markdown",
      "metadata": {
        "id": "XYk8CTGN6t25"
      },
      "source": [
        "## *6.Split*"
      ]
    },
    {
      "cell_type": "code",
      "metadata": {
        "id": "SRDj3P6QNv24"
      },
      "source": [
        "SplitArr = np.array([5,2,6,7,3,4,4,3,1])\n",
        "#Membagi array menajdi 3 subarrays yang sama jumlah isinya:\n",
        "SplitMat = np.split(SplitArr,3)\n",
        "print(SplitMat)\n",
        "\n",
        "#Membagi array di posisi yang di tunjuk sesuai dengan 1-D array:\n",
        "SplitMat = np.split(SplitArr,[1,3,5])\n",
        "print('\\n')\n",
        "print(SplitMat)"
      ],
      "execution_count": null,
      "outputs": []
    },
    {
      "cell_type": "markdown",
      "metadata": {
        "id": "F0a6Z6UQ6xd0"
      },
      "source": [
        "## *7.Resize*"
      ]
    },
    {
      "cell_type": "code",
      "metadata": {
        "id": "7wXXNmu3nmzA",
        "colab": {
          "base_uri": "https://localhost:8080/"
        },
        "outputId": "4e29a359-7b35-4e88-a91c-83e3cb1b4a7d"
      },
      "source": [
        "#Mengubah size array, kalau size lebih besar maka terdapat salinan\n",
        "ResizeArr = np.array([[1,2,3],[4,5,6]])\n",
        "ResizeMat = np.resize(ResizeArr,(3,5))\n",
        "print(ResizeMat)"
      ],
      "execution_count": null,
      "outputs": [
        {
          "output_type": "stream",
          "name": "stdout",
          "text": [
            "[[1 2 3 4 5]\n",
            " [6 1 2 3 4]\n",
            " [5 6 1 2 3]]\n"
          ]
        }
      ]
    },
    {
      "cell_type": "markdown",
      "metadata": {
        "id": "fiTr71ml64qE"
      },
      "source": [
        "## *8.Append*"
      ]
    },
    {
      "cell_type": "code",
      "metadata": {
        "id": "7Yk4oIitsazf",
        "colab": {
          "base_uri": "https://localhost:8080/"
        },
        "outputId": "b16a9a62-68da-4c0f-c707-1c390c44a3ef"
      },
      "source": [
        "InitialAppend = np.array([[1,2,3],[4,5,6]])\n",
        "\n",
        "#Menggabungkan Array tanpa Axis (1-D array)\n",
        "Append1 = np.append(InitialAppend, [7,8,9]) \n",
        "print(Append1)\n",
        "\n",
        "#Menggabungkan Array dalam Axis 0 (2-D Array)\n",
        "print('\\n')\n",
        "Append2 = np.append(InitialAppend, [[7,8,9]], axis=0) \n",
        "print(Append2)\n",
        "\n",
        "#Menggabungkan Array dalam Axis 1 (2-D Array)\n",
        "print('\\n')\n",
        "Append3 = np.append(InitialAppend, [[7,8,9],[10,11,12]], axis=1) \n",
        "print(Append3)"
      ],
      "execution_count": null,
      "outputs": [
        {
          "output_type": "stream",
          "name": "stdout",
          "text": [
            "[1 2 3 4 5 6 7 8 9]\n",
            "\n",
            "\n",
            "[[1 2 3]\n",
            " [4 5 6]\n",
            " [7 8 9]]\n",
            "\n",
            "\n",
            "[[ 1  2  3  7  8  9]\n",
            " [ 4  5  6 10 11 12]]\n"
          ]
        }
      ]
    },
    {
      "cell_type": "markdown",
      "metadata": {
        "id": "5r6z9vG967f8"
      },
      "source": [
        "## *9.Insert*"
      ]
    },
    {
      "cell_type": "code",
      "metadata": {
        "id": "lSz9gHsq_pLw",
        "colab": {
          "base_uri": "https://localhost:8080/"
        },
        "outputId": "b5f6c4d4-d797-42e1-ea86-072b0dd7d201"
      },
      "source": [
        "InitialArr = np.array([[1,2],[3,4],[5,6]])\n",
        "#Insert tanpa axis, maka array akan di flatten (1-D array)\n",
        "Insert1 = np.insert(InitialArr,2,[11,12]) #Arr, Insert di indeks keberapa, yg mau di insert\n",
        "print(Insert1)\n",
        "# print('\\n')\n",
        "\n",
        "# print(InitialArr)\n",
        "\n",
        "#Insert dalam axis = 0\n",
        "print('\\n')\n",
        "Insert2 = np.insert(InitialArr,2,[11,12], axis = 0) \n",
        "print(Insert2)\n",
        "\n",
        "#Insert dalam axis = 1\n",
        "print('\\n')\n",
        "Insert3 = np.insert(InitialArr,2,[11,12,13], axis = 1) \n",
        "print(Insert3)"
      ],
      "execution_count": null,
      "outputs": [
        {
          "output_type": "stream",
          "name": "stdout",
          "text": [
            "[ 1  2 11 12  3  4  5  6]\n",
            "\n",
            "\n",
            "[[ 1  2]\n",
            " [ 3  4]\n",
            " [11 12]\n",
            " [ 5  6]]\n",
            "\n",
            "\n",
            "[[ 1  2 11]\n",
            " [ 3  4 12]\n",
            " [ 5  6 13]]\n"
          ]
        }
      ]
    },
    {
      "cell_type": "markdown",
      "metadata": {
        "id": "II_r6-pM7BQl"
      },
      "source": [
        "## *10.Delete*"
      ]
    },
    {
      "cell_type": "code",
      "metadata": {
        "id": "l7r9ZVDiAfTL",
        "colab": {
          "base_uri": "https://localhost:8080/"
        },
        "outputId": "753f88f0-e881-4e3c-f6e1-6f0469f376a6"
      },
      "source": [
        "InitialDel = np.arange(1,9).reshape(2,4)\n",
        "print(InitialDel)\n",
        "\n",
        "#Delete tanpa axis, maka array akan di flatten (1-D array)\n",
        "print('\\n')\n",
        "Delete1 = np.delete(InitialDel,2) \n",
        "print(Delete1)\n",
        "\n",
        "#Delete dalam axis = 0, Row 2 Terhapus\n",
        "print('\\n')\n",
        "Delete2 = np.delete(InitialDel,0, axis = 0) \n",
        "print(Delete2)\n",
        "\n",
        "#Delete dalam axis = 1, Column 2 Terhapus\n",
        "print('\\n')\n",
        "Delete3 = np.delete(InitialDel,1, axis = 1) \n",
        "print(Delete3)"
      ],
      "execution_count": null,
      "outputs": [
        {
          "output_type": "stream",
          "name": "stdout",
          "text": [
            "[[1 2 3 4]\n",
            " [5 6 7 8]]\n",
            "\n",
            "\n",
            "[1 2 4 5 6 7 8]\n",
            "\n",
            "\n",
            "[[5 6 7 8]]\n",
            "\n",
            "\n",
            "[[1 3 4]\n",
            " [5 7 8]]\n"
          ]
        }
      ]
    },
    {
      "cell_type": "markdown",
      "metadata": {
        "id": "OdoIK5fJ7FCC"
      },
      "source": [
        "## *11.Unique*"
      ]
    },
    {
      "cell_type": "code",
      "metadata": {
        "id": "ycSry6NWkOWt"
      },
      "source": [
        "InitialUnique = np.array([5,2,6,2,7,5,6,8,2,4,2,2])\n",
        "print(InitialUnique)\n",
        "print('\\n')\n",
        "\n",
        "#Value yang unik dari array:\n",
        "UniqueFirst = np.unique(InitialUnique)\n",
        "print('Value yang unik dari array:')\n",
        "print(UniqueFirst)\n",
        "print('\\n')\n",
        "\n",
        "#Value yang unik dari array dan indeksnya:\n",
        "UniqueSecond = np.unique(InitialUnique, return_index=True)\n",
        "print('Value yang unik dari array dan indeksnya:')\n",
        "print(UniqueSecond)\n",
        "print('\\n')\n",
        "\n",
        "\n",
        "#Ada berapa value unik dalam array:\n",
        "UniqueSecond,indices = np.unique(InitialUnique, return_counts=True)\n",
        "print('Ada berapa value unik dalam array:')\n",
        "print(UniqueSecond)\n",
        "print(indices)\n",
        "print('\\n')\n",
        "\n",
        "#ct= np.split(InitialUnique,2)\n",
        "ct= np.split(UniqueSecond,2)\n",
        "print(ct)"
      ],
      "execution_count": null,
      "outputs": []
    },
    {
      "cell_type": "markdown",
      "metadata": {
        "id": "h30s0Q_67bjW"
      },
      "source": [
        "## *12.Slice*"
      ]
    },
    {
      "cell_type": "code",
      "metadata": {
        "id": "w54_Q1AEkQSo",
        "colab": {
          "base_uri": "https://localhost:8080/",
          "height": 235
        },
        "outputId": "243e2508-4126-421e-8e11-1152bd74d7c9"
      },
      "source": [
        "InitialSlc = np.arange(10)\n",
        "print(InitialSlc)\n",
        "print('\\n')\n",
        "\n",
        "#Slicing satu elemen\n",
        "s2 = InitialSlc[2]\n",
        "print('Slicing satu elemen:')\n",
        "print(s2)\n",
        "print('\\n')\n",
        "\n",
        "#Slicing mulai dari indeks sekian.....\n",
        "s3 = InitialSlc[3:]\n",
        "print('Slicing mulai dari indeks sekian:')\n",
        "print(s3)\n",
        "print('\\n')\n",
        "\n",
        "#Slicing stop di indeks sekian.....\n",
        "s31 = InitialSlc[:5]\n",
        "print('Slicing stop di indeks sekian:')\n",
        "print(s31)\n",
        "print('\\n')\n",
        "\n",
        "#Slicing values diantara indeks- indeks\n",
        "s4 = InitialSlc[3:8]\n",
        "print('Slicing values diantara indeks- indeks:')\n",
        "print(s4)\n",
        "print('\\n')\n",
        "\n",
        "#Slicing values dengan step / interval sekian.....\n",
        "s5 = InitialSlc[::2]\n",
        "print('Slicing values dengan step / interval sekian:')\n",
        "print(s5)\n",
        "print('\\n')\n",
        "\n",
        "#Slicing dengan semua parameter\n",
        "# s = InitialSlc[slice(2,7,2)]\n",
        "s = InitialSlc[2:7:2]\n",
        "print('Slicing dengan semua parameter:')\n",
        "print(s)\n",
        "print('\\n')"
      ],
      "execution_count": null,
      "outputs": [
        {
          "output_type": "error",
          "ename": "NameError",
          "evalue": "ignored",
          "traceback": [
            "\u001b[0;31m---------------------------------------------------------------------------\u001b[0m",
            "\u001b[0;31mNameError\u001b[0m                                 Traceback (most recent call last)",
            "\u001b[0;32m<ipython-input-1-9c6f71d703dd>\u001b[0m in \u001b[0;36m<module>\u001b[0;34m\u001b[0m\n\u001b[0;32m----> 1\u001b[0;31m \u001b[0mInitialSlc\u001b[0m \u001b[0;34m=\u001b[0m \u001b[0mnp\u001b[0m\u001b[0;34m.\u001b[0m\u001b[0marange\u001b[0m\u001b[0;34m(\u001b[0m\u001b[0;36m10\u001b[0m\u001b[0;34m)\u001b[0m\u001b[0;34m\u001b[0m\u001b[0;34m\u001b[0m\u001b[0m\n\u001b[0m\u001b[1;32m      2\u001b[0m \u001b[0mprint\u001b[0m\u001b[0;34m(\u001b[0m\u001b[0mInitialSlc\u001b[0m\u001b[0;34m)\u001b[0m\u001b[0;34m\u001b[0m\u001b[0;34m\u001b[0m\u001b[0m\n\u001b[1;32m      3\u001b[0m \u001b[0mprint\u001b[0m\u001b[0;34m(\u001b[0m\u001b[0;34m'\\n'\u001b[0m\u001b[0;34m)\u001b[0m\u001b[0;34m\u001b[0m\u001b[0;34m\u001b[0m\u001b[0m\n\u001b[1;32m      4\u001b[0m \u001b[0;34m\u001b[0m\u001b[0m\n\u001b[1;32m      5\u001b[0m \u001b[0;31m#Slicing satu elemen\u001b[0m\u001b[0;34m\u001b[0m\u001b[0;34m\u001b[0m\u001b[0;34m\u001b[0m\u001b[0m\n",
            "\u001b[0;31mNameError\u001b[0m: name 'np' is not defined"
          ]
        }
      ]
    },
    {
      "cell_type": "code",
      "source": [
        "a = np.arange(25).reshape(5,5)\n",
        "print(a)\n",
        "\n",
        "print(a[1:4,0:3])\n"
      ],
      "metadata": {
        "id": "_700iZNpvbAq",
        "outputId": "68553d2f-4ed2-4960-e5e6-434a5e8f66e0",
        "colab": {
          "base_uri": "https://localhost:8080/",
          "height": 218
        }
      },
      "execution_count": null,
      "outputs": [
        {
          "output_type": "error",
          "ename": "NameError",
          "evalue": "ignored",
          "traceback": [
            "\u001b[0;31m---------------------------------------------------------------------------\u001b[0m",
            "\u001b[0;31mNameError\u001b[0m                                 Traceback (most recent call last)",
            "\u001b[0;32m<ipython-input-1-98dddb17a038>\u001b[0m in \u001b[0;36m<module>\u001b[0;34m\u001b[0m\n\u001b[0;32m----> 1\u001b[0;31m \u001b[0ma\u001b[0m \u001b[0;34m=\u001b[0m \u001b[0mnp\u001b[0m\u001b[0;34m.\u001b[0m\u001b[0marange\u001b[0m\u001b[0;34m(\u001b[0m\u001b[0;36m25\u001b[0m\u001b[0;34m)\u001b[0m\u001b[0;34m.\u001b[0m\u001b[0mreshape\u001b[0m\u001b[0;34m(\u001b[0m\u001b[0;36m5\u001b[0m\u001b[0;34m,\u001b[0m\u001b[0;36m5\u001b[0m\u001b[0;34m)\u001b[0m\u001b[0;34m\u001b[0m\u001b[0;34m\u001b[0m\u001b[0m\n\u001b[0m\u001b[1;32m      2\u001b[0m \u001b[0mprint\u001b[0m\u001b[0;34m(\u001b[0m\u001b[0ma\u001b[0m\u001b[0;34m)\u001b[0m\u001b[0;34m\u001b[0m\u001b[0;34m\u001b[0m\u001b[0m\n\u001b[1;32m      3\u001b[0m \u001b[0;34m\u001b[0m\u001b[0m\n\u001b[1;32m      4\u001b[0m \u001b[0mprint\u001b[0m\u001b[0;34m(\u001b[0m\u001b[0ma\u001b[0m\u001b[0;34m[\u001b[0m\u001b[0;36m1\u001b[0m\u001b[0;34m:\u001b[0m\u001b[0;36m4\u001b[0m\u001b[0;34m,\u001b[0m\u001b[0;36m0\u001b[0m\u001b[0;34m:\u001b[0m\u001b[0;36m3\u001b[0m\u001b[0;34m]\u001b[0m\u001b[0;34m)\u001b[0m\u001b[0;34m\u001b[0m\u001b[0;34m\u001b[0m\u001b[0m\n",
            "\u001b[0;31mNameError\u001b[0m: name 'np' is not defined"
          ]
        }
      ]
    },
    {
      "cell_type": "markdown",
      "metadata": {
        "id": "o2M2bwAhEuce"
      },
      "source": [
        "# Experiment dengan Array"
      ]
    },
    {
      "cell_type": "markdown",
      "metadata": {
        "id": "6_be4GCUE19W"
      },
      "source": [
        "Mari membuat array dibawah ini <br>\n",
        "[[1. 1. 1. 1. 1.]<br>\n",
        "[1. 0. 0. 0. 1.]<br>\n",
        "[1. 0. 9. 0. 1.]<br>\n",
        "[1. 0. 0. 0. 1.]<br>\n",
        "[1. 1. 1. 1. 1.]]"
      ]
    },
    {
      "cell_type": "code",
      "source": [
        "out = np.ones((5,5))\n",
        "print(out)\n",
        "in_ = np.zeros((3,3))\n",
        "print(in_)\n",
        "in_[1,1] = 9 \n",
        "print(in_)\n",
        "\n",
        "#out[r:c]\n",
        "out[1:4,1:4] = in_\n",
        "print(out)"
      ],
      "metadata": {
        "id": "k7oDZ7uXdk3c"
      },
      "execution_count": null,
      "outputs": []
    }
  ]
}