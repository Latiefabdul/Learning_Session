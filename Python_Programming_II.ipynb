{
  "cells": [
    {
      "cell_type": "markdown",
      "metadata": {
        "id": "view-in-github",
        "colab_type": "text"
      },
      "source": [
        "<a href=\"https://colab.research.google.com/github/Latiefabdul/Learning_Session/blob/main/Python_Programming_II.ipynb\" target=\"_parent\"><img src=\"https://colab.research.google.com/assets/colab-badge.svg\" alt=\"Open In Colab\"/></a>"
      ]
    },
    {
      "cell_type": "markdown",
      "id": "domestic-paintball",
      "metadata": {
        "id": "domestic-paintball"
      },
      "source": [
        "# Data Types Review\n"
      ]
    },
    {
      "cell_type": "code",
      "execution_count": null,
      "id": "entertaining-prospect",
      "metadata": {
        "id": "entertaining-prospect",
        "colab": {
          "base_uri": "https://localhost:8080/"
        },
        "outputId": "1a606a83-d201-460d-cdc8-6928a3daec86"
      },
      "outputs": [
        {
          "output_type": "stream",
          "name": "stdout",
          "text": [
            "2021\n"
          ]
        }
      ],
      "source": [
        "#integer\n",
        "a = 2021\n",
        "print(a)"
      ]
    },
    {
      "cell_type": "code",
      "execution_count": null,
      "id": "referenced-forth",
      "metadata": {
        "id": "referenced-forth",
        "colab": {
          "base_uri": "https://localhost:8080/"
        },
        "outputId": "847305bd-3823-46de-a879-78ea20e3e282"
      },
      "outputs": [
        {
          "output_type": "stream",
          "name": "stdout",
          "text": [
            "0.2021\n"
          ]
        }
      ],
      "source": [
        "#float\n",
        "b = 0.2021\n",
        "print(b)"
      ]
    },
    {
      "cell_type": "code",
      "execution_count": null,
      "id": "controlled-cylinder",
      "metadata": {
        "id": "controlled-cylinder",
        "colab": {
          "base_uri": "https://localhost:8080/"
        },
        "outputId": "0ed6075d-531c-406c-dd5f-5b8631230dd0"
      },
      "outputs": [
        {
          "output_type": "stream",
          "name": "stdout",
          "text": [
            "(2+21j)\n"
          ]
        }
      ],
      "source": [
        "#data kompleks\n",
        "c = 2+21j\n",
        "print(c)"
      ]
    },
    {
      "cell_type": "code",
      "execution_count": null,
      "id": "conscious-laser",
      "metadata": {
        "id": "conscious-laser"
      },
      "outputs": [],
      "source": [
        "#string\n",
        "string = 'Ini adalah string baris tunggal'"
      ]
    },
    {
      "cell_type": "code",
      "execution_count": null,
      "id": "coordinate-hollow",
      "metadata": {
        "id": "coordinate-hollow"
      },
      "outputs": [],
      "source": [
        "string = '''Ini adalah string\n",
        "yang memiliki baris \n",
        "lebih dari satu\n",
        "bisa menggunakan tanda petik 3x'''"
      ]
    },
    {
      "cell_type": "code",
      "execution_count": null,
      "id": "gentle-syracuse",
      "metadata": {
        "id": "gentle-syracuse"
      },
      "outputs": [],
      "source": [
        "#ini komen satu baris"
      ]
    },
    {
      "cell_type": "code",
      "execution_count": null,
      "id": "unusual-newsletter",
      "metadata": {
        "id": "unusual-newsletter",
        "colab": {
          "base_uri": "https://localhost:8080/"
        },
        "outputId": "8e1b2bb5-39ef-4584-9263-e4948c87f7d0"
      },
      "outputs": [
        {
          "output_type": "stream",
          "name": "stdout",
          "text": [
            "2021 Bertipe bilangan integer? True\n"
          ]
        }
      ],
      "source": [
        "a = 2021\n",
        "print(a, \"Bertipe bilangan integer?\", isinstance(2021,int))"
      ]
    },
    {
      "cell_type": "code",
      "execution_count": null,
      "id": "freelance-wagner",
      "metadata": {
        "id": "freelance-wagner",
        "colab": {
          "base_uri": "https://localhost:8080/"
        },
        "outputId": "6f5220c5-b2ea-4032-a063-744d8115da7d"
      },
      "outputs": [
        {
          "output_type": "stream",
          "name": "stdout",
          "text": [
            "0.2021 Bertipe bilangan float? True\n"
          ]
        }
      ],
      "source": [
        "b= 0.2021\n",
        "print(b, \"Bertipe bilangan float?\", isinstance(0.2021,float))"
      ]
    },
    {
      "cell_type": "code",
      "execution_count": null,
      "id": "inappropriate-swimming",
      "metadata": {
        "id": "inappropriate-swimming",
        "colab": {
          "base_uri": "https://localhost:8080/"
        },
        "outputId": "23f22a16-15b8-4b07-8745-6d6c16f12f2a"
      },
      "outputs": [
        {
          "output_type": "execute_result",
          "data": {
            "text/plain": [
              "False"
            ]
          },
          "metadata": {},
          "execution_count": 9
        }
      ],
      "source": [
        "#Boolean\n",
        "x = 4\n",
        "y = 2\n",
        "x == y #apakah x = y? "
      ]
    },
    {
      "cell_type": "code",
      "execution_count": null,
      "id": "creative-dining",
      "metadata": {
        "id": "creative-dining",
        "colab": {
          "base_uri": "https://localhost:8080/"
        },
        "outputId": "5de51e9c-1b60-4ef8-a761-e89dd74efadf"
      },
      "outputs": [
        {
          "output_type": "execute_result",
          "data": {
            "text/plain": [
              "True"
            ]
          },
          "metadata": {},
          "execution_count": 10
        }
      ],
      "source": [
        "x = 5\n",
        "y = 6\n",
        "x < y"
      ]
    },
    {
      "cell_type": "code",
      "execution_count": null,
      "id": "sustainable-memorial",
      "metadata": {
        "id": "sustainable-memorial",
        "colab": {
          "base_uri": "https://localhost:8080/"
        },
        "outputId": "26adca4c-668e-482e-a77a-417bf25a3003"
      },
      "outputs": [
        {
          "output_type": "execute_result",
          "data": {
            "text/plain": [
              "False"
            ]
          },
          "metadata": {},
          "execution_count": 11
        }
      ],
      "source": [
        "x > y"
      ]
    },
    {
      "cell_type": "markdown",
      "id": "alternate-marker",
      "metadata": {
        "id": "alternate-marker"
      },
      "source": [
        "# Slicing"
      ]
    },
    {
      "cell_type": "code",
      "execution_count": null,
      "id": "durable-texas",
      "metadata": {
        "id": "durable-texas",
        "colab": {
          "base_uri": "https://localhost:8080/"
        },
        "outputId": "93c4e725-a0d6-496b-9b8e-da506d7d179f"
      },
      "outputs": [
        {
          "output_type": "stream",
          "name": "stdout",
          "text": [
            "[2, 3, 4]\n"
          ]
        }
      ],
      "source": [
        "x = [2,3,1]\n",
        "x[2] = 4\n",
        "print(x)"
      ]
    },
    {
      "cell_type": "code",
      "source": [
        "x[2]"
      ],
      "metadata": {
        "id": "P2H-EG0RWajZ",
        "colab": {
          "base_uri": "https://localhost:8080/"
        },
        "outputId": "bf21b11a-48ec-499c-dda9-81d36fc4c56f"
      },
      "id": "P2H-EG0RWajZ",
      "execution_count": null,
      "outputs": [
        {
          "output_type": "execute_result",
          "data": {
            "text/plain": [
              "4"
            ]
          },
          "metadata": {},
          "execution_count": 13
        }
      ]
    },
    {
      "cell_type": "code",
      "source": [
        "x[1]"
      ],
      "metadata": {
        "id": "u9m2K_HOWthd",
        "colab": {
          "base_uri": "https://localhost:8080/"
        },
        "outputId": "3e93d3dc-0595-4f55-b754-368545d158dd"
      },
      "id": "u9m2K_HOWthd",
      "execution_count": null,
      "outputs": [
        {
          "output_type": "execute_result",
          "data": {
            "text/plain": [
              "3"
            ]
          },
          "metadata": {},
          "execution_count": 14
        }
      ]
    },
    {
      "cell_type": "code",
      "execution_count": null,
      "id": "younger-amino",
      "metadata": {
        "id": "younger-amino",
        "colab": {
          "base_uri": "https://localhost:8080/"
        },
        "outputId": "a696b60c-f67a-48dc-eefe-d7d169616a3e"
      },
      "outputs": [
        {
          "output_type": "stream",
          "name": "stdout",
          "text": [
            "l\n",
            "orld\n",
            "el o\n"
          ]
        }
      ],
      "source": [
        "s = \"Hello World!\"\n",
        "print(s[3]) # huruf -l\n",
        "print(s[7:11])\n",
        "print(s[1:8:2])\n",
        "# s = \"-\"\n",
        "# s = \"Hallo Dunia!\"\n",
        "# print(s[1:8:2])"
      ]
    },
    {
      "cell_type": "code",
      "execution_count": null,
      "id": "married-belgium",
      "metadata": {
        "id": "married-belgium",
        "colab": {
          "base_uri": "https://localhost:8080/"
        },
        "outputId": "ed387886-52e4-4bc1-95a9-b42ef2f9b554"
      },
      "outputs": [
        {
          "output_type": "execute_result",
          "data": {
            "text/plain": [
              "[2021, 0.2021, 'python']"
            ]
          },
          "metadata": {},
          "execution_count": 16
        }
      ],
      "source": [
        "my_list = [2021, 0.2021, 'python']\n",
        "my_list"
      ]
    },
    {
      "cell_type": "code",
      "source": [
        "m = my_list[2]\n",
        "m[0]"
      ],
      "metadata": {
        "colab": {
          "base_uri": "https://localhost:8080/",
          "height": 35
        },
        "id": "fOXuJ0i6R_52",
        "outputId": "f4481cdb-7880-4a6c-94cf-0581d1394f4c"
      },
      "id": "fOXuJ0i6R_52",
      "execution_count": null,
      "outputs": [
        {
          "output_type": "execute_result",
          "data": {
            "text/plain": [
              "'p'"
            ],
            "application/vnd.google.colaboratory.intrinsic+json": {
              "type": "string"
            }
          },
          "metadata": {},
          "execution_count": 17
        }
      ]
    },
    {
      "cell_type": "code",
      "source": [
        "#list\n",
        "x = [10,20,30,40,50,60,70,80]"
      ],
      "metadata": {
        "id": "qghsCUjzXZQm"
      },
      "id": "qghsCUjzXZQm",
      "execution_count": null,
      "outputs": []
    },
    {
      "cell_type": "code",
      "execution_count": null,
      "id": "running-crash",
      "metadata": {
        "id": "running-crash",
        "colab": {
          "base_uri": "https://localhost:8080/"
        },
        "outputId": "8409d036-206d-40e1-d61e-d8e5a16c8965"
      },
      "outputs": [
        {
          "output_type": "stream",
          "name": "stdout",
          "text": [
            "60\n",
            "80\n",
            "[40, 50]\n",
            "[10, 20, 30, 40, 50]\n",
            "[60, 70, 80]\n",
            "[20, 40, 60]\n"
          ]
        }
      ],
      "source": [
        "print(x[5]) #60\n",
        "print(x[-1]) #80\n",
        "print(x[3:5]) #40,50\n",
        "print(x[:5]) #10 - 50\n",
        "print(x[-3:]) # 60 - slsai\n",
        "print(x[1:7:2]) #20,40,60"
      ]
    },
    {
      "cell_type": "code",
      "execution_count": null,
      "id": "laughing-greek",
      "metadata": {
        "id": "laughing-greek",
        "colab": {
          "base_uri": "https://localhost:8080/"
        },
        "outputId": "8686b2ac-7d74-477c-9d71-8cdbfbcb20e9"
      },
      "outputs": [
        {
          "output_type": "stream",
          "name": "stdout",
          "text": [
            "[90, 95, 85]\n",
            "[100, 90, 95, 85, 80]\n",
            "\n",
            "\n",
            "[100, 85]\n",
            "[85, 80, 20]\n",
            "[100, 90, 95]\n"
          ]
        }
      ],
      "source": [
        "#index = [0,1,2,......,n] index selalu dimulai dari 0 berurutan sampai ke-n\n",
        "data2021 = [100,90,95,85,80,20]   #ini adalah list\n",
        "\n",
        "print(data2021[1:4])  # ambil data 2-4 atau index 1-3\n",
        "print(data2021[:5])  # ambil data 1-5 atau index 0-4 \n",
        "    \n",
        "print(\"\\n\")    \n",
        "\n",
        "print(data2021[:6:3])  # ambil data ke-1 sampai data ke-6 dengan 2 langkah\n",
        "                        # ambil index ke-0 sampai index ke-5 dengan 2 langkah\n",
        "print(data2021[-3:])  # ambil 3 data terakhir dari belakang\n",
        "print(data2021[:-3])  # ambil 3 data dari awal"
      ]
    },
    {
      "cell_type": "code",
      "source": [
        "data2021[2] = 90\n",
        "# data2021[:-3] = 100  #Pake for loop\n",
        "\n",
        "print(data2021)"
      ],
      "metadata": {
        "id": "6-PhLP9qf0va",
        "colab": {
          "base_uri": "https://localhost:8080/"
        },
        "outputId": "a250f84b-d889-47ff-fd55-d31149faf9c9"
      },
      "id": "6-PhLP9qf0va",
      "execution_count": null,
      "outputs": [
        {
          "output_type": "stream",
          "name": "stdout",
          "text": [
            "[100, 90, 90, 85, 80, 20]\n"
          ]
        }
      ]
    },
    {
      "cell_type": "code",
      "source": [
        "data2021[:-3]"
      ],
      "metadata": {
        "colab": {
          "base_uri": "https://localhost:8080/"
        },
        "id": "uvSMl2ZVU0Wp",
        "outputId": "852f6886-1499-4115-d3af-646485bcd5a5"
      },
      "id": "uvSMl2ZVU0Wp",
      "execution_count": null,
      "outputs": [
        {
          "output_type": "execute_result",
          "data": {
            "text/plain": [
              "[100, 90, 90]"
            ]
          },
          "metadata": {},
          "execution_count": 22
        }
      ]
    },
    {
      "cell_type": "code",
      "source": [
        "data2021[:3]"
      ],
      "metadata": {
        "colab": {
          "base_uri": "https://localhost:8080/"
        },
        "id": "-po_mq7TU4Lm",
        "outputId": "6bcc42a9-10ee-435c-a35e-7c5b93c3f270"
      },
      "id": "-po_mq7TU4Lm",
      "execution_count": null,
      "outputs": [
        {
          "output_type": "execute_result",
          "data": {
            "text/plain": [
              "[100, 90, 90]"
            ]
          },
          "metadata": {},
          "execution_count": 23
        }
      ]
    },
    {
      "cell_type": "code",
      "execution_count": null,
      "id": "underlying-pension",
      "metadata": {
        "id": "underlying-pension",
        "colab": {
          "base_uri": "https://localhost:8080/"
        },
        "outputId": "beec4d4f-10d1-48e0-ccf2-431c116157f7"
      },
      "outputs": [
        {
          "output_type": "stream",
          "name": "stdout",
          "text": [
            "90\n",
            "[100, 90, 90]\n"
          ]
        }
      ],
      "source": [
        "#update data\n",
        "print(data2021[2]) #mengubah/update data ke 3 menjadi nilai 90\n",
        "print(data2021[:-3]) #slice tidak bisa update beberapa range nilai sekaligus (perlu loop)"
      ]
    },
    {
      "cell_type": "code",
      "execution_count": null,
      "id": "endangered-brook",
      "metadata": {
        "id": "endangered-brook",
        "colab": {
          "base_uri": "https://localhost:8080/"
        },
        "outputId": "e4f0a79d-70cb-4098-9a36-c20a358b9a69"
      },
      "outputs": [
        {
          "output_type": "stream",
          "name": "stdout",
          "text": [
            "[2, 3, 4]\n"
          ]
        }
      ],
      "source": [
        "#update data\n",
        "x = [2,3,1]\n",
        "x[2]=4\n",
        "print(x)"
      ]
    },
    {
      "cell_type": "code",
      "execution_count": null,
      "id": "objective-poker",
      "metadata": {
        "id": "objective-poker",
        "colab": {
          "base_uri": "https://localhost:8080/"
        },
        "outputId": "cf0b115a-b5e4-41c9-e8fa-18f27ba28056"
      },
      "outputs": [
        {
          "output_type": "stream",
          "name": "stdout",
          "text": [
            "l\n",
            "orld\n",
            "Hallo Dunia!\n"
          ]
        }
      ],
      "source": [
        "#slicing data string dan update data pada data string\n",
        "s = \"Hello World!\"\n",
        "print(s[3])         #ambil karakter keempat dari string s\n",
        "print(s[7:11])      #ambil karakter kedelapan hingga sebelas dari string s\n",
        "#s[5]=\"-\"            #ubah karakter keenam dari string s menjadi \"-\", seharusnya gagal karena immutable\n",
        "s = \"Hallo Dunia!\"  #ubah isi string s menjadi \"Halo Dunia!\", seharusnya berhasil karena mutable\n",
        "print (s)"
      ]
    },
    {
      "cell_type": "markdown",
      "id": "crucial-paragraph",
      "metadata": {
        "id": "crucial-paragraph"
      },
      "source": [
        "## Latihan slicing "
      ]
    },
    {
      "cell_type": "code",
      "execution_count": null,
      "id": "sacred-surveillance",
      "metadata": {
        "id": "sacred-surveillance",
        "colab": {
          "base_uri": "https://localhost:8080/"
        },
        "outputId": "5e8611e6-65e7-48e8-b255-bdd09194866f"
      },
      "outputs": [
        {
          "output_type": "execute_result",
          "data": {
            "text/plain": [
              "9"
            ]
          },
          "metadata": {},
          "execution_count": 27
        }
      ],
      "source": [
        "lists = [11,12,13,14,15,16,17,18,19]\n",
        "len(lists)"
      ]
    },
    {
      "cell_type": "code",
      "execution_count": null,
      "id": "ready-cancellation",
      "metadata": {
        "id": "ready-cancellation",
        "colab": {
          "base_uri": "https://localhost:8080/"
        },
        "outputId": "c59b5b1c-182a-4998-c1db-de97c98139c1"
      },
      "outputs": [
        {
          "output_type": "execute_result",
          "data": {
            "text/plain": [
              "[12, 13, 14, 15, 16]"
            ]
          },
          "metadata": {},
          "execution_count": 28
        }
      ],
      "source": [
        "#1. Ambil elemen/data ke 2-6 --> Indeks ke 1 - Indeks ke 5\n",
        "lists[1:6]"
      ]
    },
    {
      "cell_type": "code",
      "execution_count": null,
      "id": "humanitarian-australia",
      "metadata": {
        "id": "humanitarian-australia",
        "colab": {
          "base_uri": "https://localhost:8080/"
        },
        "outputId": "9e52df71-d923-44d4-c992-b8e1dc73bcc7"
      },
      "outputs": [
        {
          "output_type": "execute_result",
          "data": {
            "text/plain": [
              "[11, 13, 15, 17, 19]"
            ]
          },
          "metadata": {},
          "execution_count": 29
        }
      ],
      "source": [
        "#2. Ambil elemen/data 1,3,5,7,9\n",
        "lists[0::2]"
      ]
    },
    {
      "cell_type": "code",
      "execution_count": null,
      "id": "downtown-criterion",
      "metadata": {
        "id": "downtown-criterion",
        "colab": {
          "base_uri": "https://localhost:8080/"
        },
        "outputId": "ab88eccc-c602-4d4d-c15f-d59ade1ec57e"
      },
      "outputs": [
        {
          "output_type": "execute_result",
          "data": {
            "text/plain": [
              "[12, 15, 18]"
            ]
          },
          "metadata": {},
          "execution_count": 30
        }
      ],
      "source": [
        "#.3 Ambil elemen/data ke 2,5,8\n",
        "lists[1::3]"
      ]
    },
    {
      "cell_type": "code",
      "source": [
        "#.4 Ambil elemen/data ke-4 sampai elemen/data ke-9\n",
        "lists[-6:]\n",
        "lists[3:]"
      ],
      "metadata": {
        "colab": {
          "base_uri": "https://localhost:8080/"
        },
        "id": "FwX-EXbEWE66",
        "outputId": "2c454dc9-e111-463f-f656-27479aa83c83"
      },
      "id": "FwX-EXbEWE66",
      "execution_count": null,
      "outputs": [
        {
          "output_type": "execute_result",
          "data": {
            "text/plain": [
              "[14, 15, 16, 17, 18, 19]"
            ]
          },
          "metadata": {},
          "execution_count": 31
        }
      ]
    },
    {
      "cell_type": "markdown",
      "id": "signal-yesterday",
      "metadata": {
        "id": "signal-yesterday"
      },
      "source": [
        "# Conditional"
      ]
    },
    {
      "cell_type": "code",
      "execution_count": null,
      "id": "changing-establishment",
      "metadata": {
        "id": "changing-establishment",
        "colab": {
          "base_uri": "https://localhost:8080/"
        },
        "outputId": "81776531-ebd5-4381-8bf5-b7347b992f90"
      },
      "outputs": [
        {
          "output_type": "stream",
          "name": "stdout",
          "text": [
            "Bukan Sabtu\n"
          ]
        }
      ],
      "source": [
        "x = 2\n",
        "y = 2\n",
        "z = (x==y) # Comparison expression (Utk mengevaluasi false/True)\n",
        "if z: # Conditional jika z bernilai true/false \n",
        "    print(\"Bukan Sabtu\")\n",
        "else: print(\"Sabtu\")"
      ]
    },
    {
      "cell_type": "code",
      "execution_count": null,
      "id": "aware-general",
      "metadata": {
        "id": "aware-general",
        "colab": {
          "base_uri": "https://localhost:8080/"
        },
        "outputId": "e4c7dd2f-1e07-4c2f-afac-a56f3b8a3a72"
      },
      "outputs": [
        {
          "output_type": "stream",
          "name": "stdout",
          "text": [
            "Sekarang tanggal 28 May\n"
          ]
        }
      ],
      "source": [
        "x= 27\n",
        "y = 11\n",
        "\n",
        "if x < y: # Apakah x < y?\n",
        "    print('Sekarang tanggal 29 May')\n",
        "else:\n",
        "    print('Sekarang tanggal 28 May')"
      ]
    },
    {
      "cell_type": "code",
      "execution_count": null,
      "id": "thirty-grammar",
      "metadata": {
        "id": "thirty-grammar",
        "colab": {
          "base_uri": "https://localhost:8080/"
        },
        "outputId": "ab315d4d-548e-4bed-86c1-b5df8f46295d"
      },
      "outputs": [
        {
          "output_type": "stream",
          "name": "stdout",
          "text": [
            "Sekarang Pagi hari\n"
          ]
        }
      ],
      "source": [
        "a = 14\n",
        "b = 14\n",
        " \n",
        "if a != b:\n",
        "  print('Sekarang Siang hari')\n",
        "else:\n",
        "  print('Sekarang Pagi hari')"
      ]
    },
    {
      "cell_type": "markdown",
      "id": "colonial-feature",
      "metadata": {
        "id": "colonial-feature"
      },
      "source": [
        "## While Loop Statement"
      ]
    },
    {
      "cell_type": "code",
      "execution_count": null,
      "id": "swiss-chorus",
      "metadata": {
        "id": "swiss-chorus",
        "colab": {
          "base_uri": "https://localhost:8080/",
          "height": 200
        },
        "outputId": "ef1a71df-90f7-4944-cbdd-d8d36e40ab74"
      },
      "outputs": [
        {
          "output_type": "error",
          "ename": "NameError",
          "evalue": "ignored",
          "traceback": [
            "\u001b[0;31m---------------------------------------------------------------------------\u001b[0m",
            "\u001b[0;31mNameError\u001b[0m                                 Traceback (most recent call last)",
            "\u001b[0;32m<ipython-input-35-e55e66182392>\u001b[0m in \u001b[0;36m<module>\u001b[0;34m\u001b[0m\n\u001b[1;32m      1\u001b[0m \u001b[0;31m#Tidak bisa di run\u001b[0m\u001b[0;34m\u001b[0m\u001b[0;34m\u001b[0m\u001b[0;34m\u001b[0m\u001b[0m\n\u001b[0;32m----> 2\u001b[0;31m \u001b[0;32mwhile\u001b[0m \u001b[0mtest_expression\u001b[0m\u001b[0;34m:\u001b[0m\u001b[0;34m\u001b[0m\u001b[0;34m\u001b[0m\u001b[0m\n\u001b[0m\u001b[1;32m      3\u001b[0m     \u001b[0mblock_code\u001b[0m\u001b[0;34m\u001b[0m\u001b[0;34m\u001b[0m\u001b[0m\n",
            "\u001b[0;31mNameError\u001b[0m: name 'test_expression' is not defined"
          ]
        }
      ],
      "source": [
        "#Tidak bisa di run\n",
        "while test_expression:\n",
        "    block_code"
      ]
    },
    {
      "cell_type": "markdown",
      "id": "damaged-relief",
      "metadata": {
        "id": "damaged-relief"
      },
      "source": [
        "print angka dari 1 sampai 10"
      ]
    },
    {
      "cell_type": "code",
      "execution_count": null,
      "id": "hollywood-badge",
      "metadata": {
        "id": "hollywood-badge",
        "colab": {
          "base_uri": "https://localhost:8080/"
        },
        "outputId": "7358a5f3-02b0-472d-ebc5-265120ac32ee"
      },
      "outputs": [
        {
          "output_type": "stream",
          "name": "stdout",
          "text": [
            "1\n",
            "2\n",
            "3\n",
            "4\n",
            "5\n",
            "6\n",
            "7\n",
            "9\n",
            "10\n"
          ]
        }
      ],
      "source": [
        "# print 1 to 10\n",
        "print(1)\n",
        "print(2)\n",
        "print(3)\n",
        "print(4)\n",
        "print(5)\n",
        "print(6)\n",
        "print(7)\n",
        "print(9)\n",
        "print(10)"
      ]
    },
    {
      "cell_type": "code",
      "execution_count": null,
      "id": "continuing-report",
      "metadata": {
        "scrolled": true,
        "id": "continuing-report",
        "colab": {
          "base_uri": "https://localhost:8080/"
        },
        "outputId": "29074106-1782-4519-c0af-5fcbf303fe5e"
      },
      "outputs": [
        {
          "output_type": "stream",
          "name": "stdout",
          "text": [
            "1\n",
            "2\n",
            "3\n",
            "4\n",
            "5\n",
            "6\n",
            "7\n",
            "8\n",
            "9\n",
            "10\n",
            "It is done\n"
          ]
        }
      ],
      "source": [
        "# printing 1 to 10\n",
        "num = 1 # initial condition\n",
        "while num <= 10: # test expression\n",
        "    print(num) # print num\n",
        "    num = num + 1 # increment num by 1\n",
        "    \n",
        "print('It is done')"
      ]
    },
    {
      "cell_type": "code",
      "source": [
        "# printing 1 to 10\n",
        "num = 1 # initial condition\n",
        "while num < 11: # test expression\n",
        "    print(num, 'iterasi ke-', num) # print num\n",
        "    num = num + 1 # increment num by 1\n",
        "    \n",
        "print('It is done')\n",
        "    "
      ],
      "metadata": {
        "id": "4DfZEbMDgkpv",
        "colab": {
          "base_uri": "https://localhost:8080/"
        },
        "outputId": "2a6a12aa-54c6-4ee5-c704-5bbeb41dbff3"
      },
      "id": "4DfZEbMDgkpv",
      "execution_count": null,
      "outputs": [
        {
          "output_type": "stream",
          "name": "stdout",
          "text": [
            "1 iterasi ke- 1\n",
            "2 iterasi ke- 2\n",
            "3 iterasi ke- 3\n",
            "4 iterasi ke- 4\n",
            "5 iterasi ke- 5\n",
            "6 iterasi ke- 6\n",
            "7 iterasi ke- 7\n",
            "8 iterasi ke- 8\n",
            "9 iterasi ke- 9\n",
            "10 iterasi ke- 10\n",
            "It is done\n"
          ]
        }
      ]
    },
    {
      "cell_type": "code",
      "source": [
        "i = 1\n",
        "while i < 6:\n",
        "  if(i%2 == 0):\n",
        "    print(\"Benjamin is good\")\n",
        "  else:\n",
        "    print(\"Benjamin is bad\")\n",
        "  i += 1"
      ],
      "metadata": {
        "id": "x9t5H5GMhovB",
        "colab": {
          "base_uri": "https://localhost:8080/"
        },
        "outputId": "b64fe24d-f72e-4e9e-a061-bd8c661c5a94"
      },
      "id": "x9t5H5GMhovB",
      "execution_count": null,
      "outputs": [
        {
          "output_type": "stream",
          "name": "stdout",
          "text": [
            "Benjamin is bad\n",
            "Benjamin is good\n",
            "Benjamin is bad\n",
            "Benjamin is good\n",
            "Benjamin is bad\n"
          ]
        }
      ]
    },
    {
      "cell_type": "markdown",
      "id": "recorded-fabric",
      "metadata": {
        "id": "recorded-fabric"
      },
      "source": [
        "## For Loop Statement"
      ]
    },
    {
      "cell_type": "markdown",
      "id": "aggregate-index",
      "metadata": {
        "id": "aggregate-index"
      },
      "source": [
        "Menghitung penjumlahan dari angka yang ada"
      ]
    },
    {
      "cell_type": "code",
      "execution_count": null,
      "id": "tutorial-airplane",
      "metadata": {
        "id": "tutorial-airplane",
        "colab": {
          "base_uri": "https://localhost:8080/"
        },
        "outputId": "fc0fdba1-dab9-4a65-9db6-8eef4bb66dd7"
      },
      "outputs": [
        {
          "output_type": "execute_result",
          "data": {
            "text/plain": [
              "[1, 2, 3, 4, 5, 6, 7, 8, 9, 10]"
            ]
          },
          "metadata": {},
          "execution_count": 40
        }
      ],
      "source": [
        "numbers = [1, 2, 3, 4, 5, 6, 7, 8, 9, 10] # list\n",
        "numbers"
      ]
    },
    {
      "cell_type": "code",
      "execution_count": null,
      "id": "gentle-contents",
      "metadata": {
        "id": "gentle-contents",
        "colab": {
          "base_uri": "https://localhost:8080/",
          "height": 235
        },
        "outputId": "6af38f05-5947-4afb-81a9-45fc0f6e9989"
      },
      "outputs": [
        {
          "output_type": "error",
          "ename": "NameError",
          "evalue": "ignored",
          "traceback": [
            "\u001b[0;31m---------------------------------------------------------------------------\u001b[0m",
            "\u001b[0;31mNameError\u001b[0m                                 Traceback (most recent call last)",
            "\u001b[0;32m<ipython-input-41-bd8c8a6bed66>\u001b[0m in \u001b[0;36m<module>\u001b[0;34m\u001b[0m\n\u001b[0;32m----> 1\u001b[0;31m \u001b[0;32mfor\u001b[0m \u001b[0mval\u001b[0m \u001b[0;32min\u001b[0m \u001b[0msequence\u001b[0m\u001b[0;34m:\u001b[0m\u001b[0;34m\u001b[0m\u001b[0;34m\u001b[0m\u001b[0m\n\u001b[0m\u001b[1;32m      2\u001b[0m     \u001b[0mblock_code\u001b[0m\u001b[0;34m\u001b[0m\u001b[0;34m\u001b[0m\u001b[0m\n\u001b[1;32m      3\u001b[0m \u001b[0;34m\u001b[0m\u001b[0m\n\u001b[1;32m      4\u001b[0m \u001b[0;31m# val is an iterator\u001b[0m\u001b[0;34m\u001b[0m\u001b[0;34m\u001b[0m\u001b[0;34m\u001b[0m\u001b[0m\n\u001b[1;32m      5\u001b[0m \u001b[0;31m# sequence is an iterable\u001b[0m\u001b[0;34m\u001b[0m\u001b[0;34m\u001b[0m\u001b[0;34m\u001b[0m\u001b[0m\n",
            "\u001b[0;31mNameError\u001b[0m: name 'sequence' is not defined"
          ]
        }
      ],
      "source": [
        "for val in sequence:\n",
        "    block_code\n",
        "    \n",
        "# val is an iterator\n",
        "# sequence is an iterable"
      ]
    },
    {
      "cell_type": "code",
      "execution_count": null,
      "id": "black-transcript",
      "metadata": {
        "scrolled": true,
        "id": "black-transcript",
        "colab": {
          "base_uri": "https://localhost:8080/"
        },
        "outputId": "f3b6088d-cd13-4cd4-a5cf-f4583d71328e"
      },
      "outputs": [
        {
          "output_type": "stream",
          "name": "stdout",
          "text": [
            "\n",
            "The sum of total currently is 55\n",
            "\n",
            "The avg of total currently is 5.5\n"
          ]
        }
      ],
      "source": [
        "total = 0\n",
        "for val in numbers:\n",
        "  total = total + val #increment + nilai dari list\n",
        "  avg = total / val  \n",
        "print(\"\\nThe sum of total currently is {}\".format(total))\n",
        "print(\"\\nThe avg of total currently is {}\".format(avg))"
      ]
    },
    {
      "cell_type": "code",
      "source": [
        "number = [1,2,3,4,5,7]"
      ],
      "metadata": {
        "id": "fLT0SDgzkMoI"
      },
      "id": "fLT0SDgzkMoI",
      "execution_count": null,
      "outputs": []
    },
    {
      "cell_type": "code",
      "source": [
        "xand = [\"Haha\"]\n",
        "a = 5\n",
        "for i in number:\n",
        "  if i < a:\n",
        "    xand.append(\"True\") #Append adalah menggabungkan\n",
        "  else:\n",
        "    xand.append(\"False\")"
      ],
      "metadata": {
        "id": "uGkLzll7kFtl"
      },
      "id": "uGkLzll7kFtl",
      "execution_count": null,
      "outputs": []
    },
    {
      "cell_type": "code",
      "source": [
        "print(xand)"
      ],
      "metadata": {
        "id": "MsLXiJIQlTIV",
        "colab": {
          "base_uri": "https://localhost:8080/"
        },
        "outputId": "7f114dc4-ab09-4631-978e-8a0897d39a91"
      },
      "id": "MsLXiJIQlTIV",
      "execution_count": null,
      "outputs": [
        {
          "output_type": "stream",
          "name": "stdout",
          "text": [
            "['Haha', 'True', 'True', 'True', 'True', 'False', 'False']\n"
          ]
        }
      ]
    },
    {
      "cell_type": "code",
      "source": [
        "num = [1,2,3,4,5,6]"
      ],
      "metadata": {
        "id": "kq4LJ0MRmPrc"
      },
      "id": "kq4LJ0MRmPrc",
      "execution_count": null,
      "outputs": []
    },
    {
      "cell_type": "code",
      "source": [
        "range(3,6)"
      ],
      "metadata": {
        "id": "Tpe4CPt1mVp8",
        "colab": {
          "base_uri": "https://localhost:8080/"
        },
        "outputId": "f1582673-358e-41ae-bba6-53b5ecb16cbc"
      },
      "id": "Tpe4CPt1mVp8",
      "execution_count": null,
      "outputs": [
        {
          "output_type": "execute_result",
          "data": {
            "text/plain": [
              "range(3, 6)"
            ]
          },
          "metadata": {},
          "execution_count": 47
        }
      ]
    },
    {
      "cell_type": "code",
      "execution_count": null,
      "id": "german-wedding",
      "metadata": {
        "id": "german-wedding",
        "colab": {
          "base_uri": "https://localhost:8080/"
        },
        "outputId": "218d5bd4-5e0a-4828-a082-0cb5dbbe2a70"
      },
      "outputs": [
        {
          "output_type": "stream",
          "name": "stdout",
          "text": [
            "3\n",
            "4\n",
            "5\n"
          ]
        }
      ],
      "source": [
        "# printing 3 to 5\n",
        "a=0\n",
        "for i in range(3, 6):\n",
        "  num = a+1\n",
        "  print(i)\n"
      ]
    },
    {
      "cell_type": "code",
      "execution_count": null,
      "id": "prostate-agriculture",
      "metadata": {
        "id": "prostate-agriculture",
        "colab": {
          "base_uri": "https://localhost:8080/"
        },
        "outputId": "bc9bf5f7-e7ea-42ab-cd45-35bc24c7d0a6"
      },
      "outputs": [
        {
          "output_type": "stream",
          "name": "stdout",
          "text": [
            "hello!\n",
            "world!\n",
            "hi!\n",
            "everyone!\n"
          ]
        }
      ],
      "source": [
        "words = ['hello', 'world', 'hi', 'everyone'] # list\n",
        "\n",
        "for w in words:\n",
        "    print(w +'!')\n",
        "    \n",
        "# mengiterasi sebuah list, dictionary, tuple, for loop\n",
        "# mengiterasi berdasarkan sebuah prasyarat / kondisi, while loop\n"
      ]
    },
    {
      "cell_type": "code",
      "execution_count": null,
      "id": "tested-indonesian",
      "metadata": {
        "id": "tested-indonesian",
        "colab": {
          "base_uri": "https://localhost:8080/"
        },
        "outputId": "f3ad14bb-0b8e-49de-8301-291ce16a6ef3"
      },
      "outputs": [
        {
          "output_type": "stream",
          "name": "stdout",
          "text": [
            "hello !\n",
            "world !\n",
            "hi !\n",
            "everyone !\n"
          ]
        }
      ],
      "source": [
        "words = ['hello', 'world', 'hi', 'everyone']\n",
        "counter = 0\n",
        "number = len(words)\n",
        "\n",
        "while counter < number:\n",
        "    word = words[counter]\n",
        "    print(word + ' !')\n",
        "    counter = counter + 1"
      ]
    },
    {
      "cell_type": "markdown",
      "id": "several-volunteer",
      "metadata": {
        "id": "several-volunteer"
      },
      "source": [
        "## Nested Loop"
      ]
    },
    {
      "cell_type": "code",
      "execution_count": null,
      "id": "female-dodge",
      "metadata": {
        "id": "female-dodge",
        "colab": {
          "base_uri": "https://localhost:8080/"
        },
        "outputId": "ec3d66fa-5b2a-4855-bb5a-8317e5d94304"
      },
      "outputs": [
        {
          "output_type": "stream",
          "name": "stdout",
          "text": [
            "1 hello\n",
            "1 world\n",
            "1 hi\n",
            "1 everyone\n",
            "1 welcome\n",
            "2 hello\n",
            "2 world\n",
            "2 hi\n",
            "2 everyone\n",
            "2 welcome\n",
            "3 hello\n",
            "3 world\n",
            "3 hi\n",
            "3 everyone\n",
            "3 welcome\n",
            "4 hello\n",
            "4 world\n",
            "4 hi\n",
            "4 everyone\n",
            "4 welcome\n"
          ]
        }
      ],
      "source": [
        "numbers = [\"1\", \"2\", \"3\", \"4\"]\n",
        "words = ['hello', 'world', 'hi', 'everyone','welcome']\n",
        "\n",
        "for i in numbers: # outer loop\n",
        "    for word in words: # inner loop\n",
        "        print(i + \" \" + word)\n",
        "        \n",
        "# hasil nested loop = jumlah iterasi inner loop x jumlah iterasi outer loop"
      ]
    },
    {
      "cell_type": "markdown",
      "id": "worth-luxury",
      "metadata": {
        "id": "worth-luxury"
      },
      "source": [
        "## Break and Continue Statement"
      ]
    },
    {
      "cell_type": "markdown",
      "id": "essential-plaintiff",
      "metadata": {
        "id": "essential-plaintiff"
      },
      "source": [
        "**Check even numbers only**"
      ]
    },
    {
      "cell_type": "code",
      "execution_count": null,
      "id": "chicken-people",
      "metadata": {
        "id": "chicken-people",
        "colab": {
          "base_uri": "https://localhost:8080/"
        },
        "outputId": "7bacad76-507d-4a8c-c3e9-b46a5bd2e686"
      },
      "outputs": [
        {
          "output_type": "stream",
          "name": "stdout",
          "text": [
            "2\n",
            "4\n",
            "6\n",
            "8\n",
            "10\n"
          ]
        }
      ],
      "source": [
        "numbers = [1, 2, 3, 4, 5, 6, 7, 8, 9, 10]\n",
        "\n",
        "#print only even number\n",
        "for num in numbers:\n",
        "    if num % 2 != 0: #Ganjil\n",
        "        continue\n",
        "    else:\n",
        "        print(num)"
      ]
    },
    {
      "cell_type": "markdown",
      "id": "threatened-american",
      "metadata": {
        "id": "threatened-american"
      },
      "source": [
        "**Terminate printing if \"a\" alphabet is appear**"
      ]
    },
    {
      "cell_type": "code",
      "execution_count": null,
      "id": "together-supply",
      "metadata": {
        "id": "together-supply",
        "colab": {
          "base_uri": "https://localhost:8080/"
        },
        "outputId": "e5e1d495-47fa-42c7-cebd-b332123f42fe"
      },
      "outputs": [
        {
          "output_type": "stream",
          "name": "stdout",
          "text": [
            "h\n",
            "e\n",
            "l\n",
            "l\n",
            "o\n",
            " \n",
            "h\n"
          ]
        }
      ],
      "source": [
        "string = 'hello hallo'\n",
        "\n",
        "for s in string:\n",
        "    if s == 'a':\n",
        "        break\n",
        "    print(s)"
      ]
    },
    {
      "cell_type": "markdown",
      "source": [
        "# Contoh Soal"
      ],
      "metadata": {
        "id": "nKNOInSKx5Ii"
      },
      "id": "nKNOInSKx5Ii"
    },
    {
      "cell_type": "code",
      "source": [
        "# Berikan 2 ke variable apple_price \n",
        "apple_price = 2\n",
        "\n",
        "# Berikan 5 ke variable count \n",
        "count = 5\n",
        "\n",
        "# Berikan hasil dari apple_price * count ke variable total_price \n",
        "total_price = apple_price * count\n",
        "\n",
        "# Dengan menggunakan variable count, cetak 'Anda akan membeli .. apel'\n",
        "print(\"Anda akan membeli \" + str(count)+\" apel\")\n",
        "\n",
        "# Dengan menggunakan variable total_price, cetak 'Harga total adalah .. dolar'\n",
        "print(\"Harga total adalah\", total_price ,\"dolar\")"
      ],
      "metadata": {
        "id": "UzO_gxY5x4P_",
        "colab": {
          "base_uri": "https://localhost:8080/"
        },
        "outputId": "cf17ebf0-fa0d-41ac-d131-cec493a2c20b"
      },
      "id": "UzO_gxY5x4P_",
      "execution_count": null,
      "outputs": [
        {
          "output_type": "stream",
          "name": "stdout",
          "text": [
            "Anda akan membeli 5 apel\n",
            "Harga total adalah 10 dolar\n"
          ]
        }
      ]
    },
    {
      "cell_type": "code",
      "source": [
        "fruits = ('apel', 'pisang', 'jeruk',2,3,4,5)\n",
        "\n",
        "for fruit in fruits:\n",
        "  if(isinstance(fruit, int)):\n",
        "    print(\"Saya suka angka\", fruit)\n",
        "  else:\n",
        "    print(\"Saya suka makan\", fruit)"
      ],
      "metadata": {
        "id": "_cSCsb7ux4Y5",
        "colab": {
          "base_uri": "https://localhost:8080/"
        },
        "outputId": "0e64df45-571c-443f-c7af-4553d42945f4"
      },
      "id": "_cSCsb7ux4Y5",
      "execution_count": null,
      "outputs": [
        {
          "output_type": "stream",
          "name": "stdout",
          "text": [
            "Saya suka makan apel\n",
            "Saya suka makan pisang\n",
            "Saya suka makan jeruk\n",
            "Saya suka angka 2\n",
            "Saya suka angka 3\n",
            "Saya suka angka 4\n",
            "Saya suka angka 5\n"
          ]
        }
      ]
    },
    {
      "cell_type": "code",
      "source": [
        "fruits = {'apel': 'apple', \n",
        "          'jeruk': 'orange', \n",
        "          'anggur': 'grape',\n",
        "          \"Satu\":1,\n",
        "          \"Dua\":2,\n",
        "          \"Tiga\":3}\n",
        "\n",
        "# Dengan loop for, cetak '___ adalah ___ dalam bahasa Inggris'\n",
        "for fruit_key in fruits:\n",
        "  if(isinstance(fruits[fruit_key], str)):\n",
        "    print(fruit_key+\" adalah \" + fruits[fruit_key]+ \" dalam bahasa Inggris\")\n",
        "  else:\n",
        "    print(fruit_key, \"adalah\", fruits[fruit_key], \"dalam notasi angka\")"
      ],
      "metadata": {
        "id": "bYILXpxsyAGR",
        "colab": {
          "base_uri": "https://localhost:8080/"
        },
        "outputId": "9037a5f8-7e65-475c-d46a-d414edd6d786"
      },
      "id": "bYILXpxsyAGR",
      "execution_count": null,
      "outputs": [
        {
          "output_type": "stream",
          "name": "stdout",
          "text": [
            "apel adalah apple dalam bahasa Inggris\n",
            "jeruk adalah orange dalam bahasa Inggris\n",
            "anggur adalah grape dalam bahasa Inggris\n",
            "Satu adalah 1 dalam notasi angka\n",
            "Dua adalah 2 dalam notasi angka\n",
            "Tiga adalah 3 dalam notasi angka\n"
          ]
        }
      ]
    },
    {
      "cell_type": "code",
      "source": [
        "items = {\"nama_barang\":\"apel\",\"deskripsi\":[{\n",
        "    \"harga\":20,\n",
        "    \"foto\":\"assets/images/apple.jpg\",\n",
        "    \"qty\":100\n",
        "}], \"nama_barang\":\"jeruk\",\"deskripsi\":[{\n",
        "    \"harga\":25,\n",
        "    \"foto\":\"assets/images/jeruk.jpg\",\n",
        "    \"qty\":150\n",
        "}] }"
      ],
      "metadata": {
        "id": "_vLgysaYyB97"
      },
      "id": "_vLgysaYyB97",
      "execution_count": null,
      "outputs": []
    },
    {
      "cell_type": "code",
      "source": [
        "# Berikan 20 ke variable money\n",
        "money = 20\n",
        "\n",
        "items = {'apel': 2, 'pisang': 4, 'jeruk': 6}\n",
        "for item_name in items:\n",
        "    print('--------------------------------------------------')\n",
        "    # Menggunakan variable money, cetak 'Anda memiliki ___ dolar di dompet Anda'\n",
        "    print(\"Anda memiliki \" + str(money) + \" dolar di dompet Anda\")\n",
        "    \n",
        "    print('Harga setiap ' + item_name + ' ' + str(items[item_name]) + ' dolar')\n",
        "    \n",
        "    input_count = input('Mau berapa ' + item_name + '?:')\n",
        "    print('Anda akan membeli ' + input_count + ' ' + item_name)\n",
        "    \n",
        "    count = int(input_count)\n",
        "    total_price = items[item_name] * count\n",
        "    print('Harga total adalah ' + str(total_price) + ' dolar')\n",
        "    \n",
        "    # Tambahkan control flow berdasarkan perbandingan dari money dan total_price\n",
        "    if(money >= total_price):\n",
        "      print(\"Anda telah membeli \"+ input_count + \" \" + item_name)\n",
        "      money = money - total_price\n",
        "    else:\n",
        "      print(\"Uang Anda tidak mencukupi\")\n",
        "      print(\"Anda tidak dapat membeli \" + item_name +\" sebanyak itu\")\n",
        "      "
      ],
      "metadata": {
        "id": "8U9ePFLoyCBV",
        "colab": {
          "base_uri": "https://localhost:8080/"
        },
        "outputId": "b6c6de10-edb6-4c05-fd9b-88f8056f4be3"
      },
      "id": "8U9ePFLoyCBV",
      "execution_count": null,
      "outputs": [
        {
          "output_type": "stream",
          "name": "stdout",
          "text": [
            "--------------------------------------------------\n",
            "Anda memiliki 20 dolar di dompet Anda\n",
            "Harga setiap apel 2 dolar\n",
            "Mau berapa apel?:2\n",
            "Anda akan membeli 2 apel\n",
            "Harga total adalah 4 dolar\n",
            "Anda telah membeli 2 apel\n",
            "--------------------------------------------------\n",
            "Anda memiliki 16 dolar di dompet Anda\n",
            "Harga setiap pisang 4 dolar\n",
            "Mau berapa pisang?:3\n",
            "Anda akan membeli 3 pisang\n",
            "Harga total adalah 12 dolar\n",
            "Anda telah membeli 3 pisang\n",
            "--------------------------------------------------\n",
            "Anda memiliki 4 dolar di dompet Anda\n",
            "Harga setiap jeruk 6 dolar\n",
            "Mau berapa jeruk?:1\n",
            "Anda akan membeli 1 jeruk\n",
            "Harga total adalah 6 dolar\n",
            "Uang Anda tidak mencukupi\n",
            "Anda tidak dapat membeli jeruk sebanyak itu\n"
          ]
        }
      ]
    }
  ],
  "metadata": {
    "kernelspec": {
      "display_name": "Python 3",
      "language": "python",
      "name": "python3"
    },
    "language_info": {
      "codemirror_mode": {
        "name": "ipython",
        "version": 3
      },
      "file_extension": ".py",
      "mimetype": "text/x-python",
      "name": "python",
      "nbconvert_exporter": "python",
      "pygments_lexer": "ipython3",
      "version": "3.7.1"
    },
    "colab": {
      "provenance": [],
      "include_colab_link": true
    }
  },
  "nbformat": 4,
  "nbformat_minor": 5
}